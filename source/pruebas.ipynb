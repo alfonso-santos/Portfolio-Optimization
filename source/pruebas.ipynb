{
 "cells": [
  {
   "cell_type": "code",
   "execution_count": 1,
   "metadata": {},
   "outputs": [],
   "source": [
    "import numpy as np\n",
    "import pandas as pd\n",
    "import matplotlib.pyplot as plt\n",
    "import seaborn as sns\n",
    "import yfinance as yf\n",
    "import scipy.stats as stats\n",
    "import matplotlib.patches as patches\n",
    "\n",
    "from utils import dibuja_covar, dibuja_covar_ax"
   ]
  },
  {
   "cell_type": "code",
   "execution_count": 2,
   "metadata": {},
   "outputs": [],
   "source": [
    "#definimos los ticvkers de los activos que vamos a usar\n",
    "assets = ['AAPL', 'APA', 'CMCSA', 'CSCO', 'CPB', 'JCI', 'MO', 'MSFT', 'TGT']"
   ]
  },
  {
   "cell_type": "code",
   "execution_count": 3,
   "metadata": {},
   "outputs": [],
   "source": [
    "num_act = len(assets) # number of assets\n",
    "num_datos = 6000 # number of data points\n",
    "\n",
    "rs = np.random.RandomState(seed=123) # Here we create like a session of random numbers that allows to reproduce the results\n",
    "\n",
    "# We create a random matrix of returns\n",
    "# The matrix is num_datos x num_act\n",
    "samp_ind = rs.randn(num_datos, num_act) # a sample from independent standard normal distribution\n",
    "\n",
    "corr_ind = np.corrcoef(samp_ind, rowvar=False) # correlation of the independent sample"
   ]
  },
  {
   "cell_type": "code",
   "execution_count": 4,
   "metadata": {},
   "outputs": [
    {
     "name": "stdout",
     "output_type": "stream",
     "text": [
      "[*********************100%%**********************]  9 of 9 completed\n"
     ]
    }
   ],
   "source": [
    "# Nos bajamos los precios de cierre ajustados entre dos fechas\n",
    "start = '1990-12-30'\n",
    "end = '2022-12-31'\n",
    "\n",
    "prices = yf.download(assets, start=start, end=end)['Adj Close']\n",
    "ret = prices.pct_change().dropna()"
   ]
  },
  {
   "cell_type": "code",
   "execution_count": 5,
   "metadata": {},
   "outputs": [],
   "source": [
    "# Calculate statistics of daily returns\n",
    "mu = np.mean(ret, axis=0).to_numpy().reshape(-1,1)\n",
    "std = np.std(ret, axis=0).to_numpy().reshape(-1,1)\n",
    "#mu = ret.mean().to_numpy().reshape(-1,1) # mean vector\n",
    "cov = ret.cov().to_numpy() # covariance matrix\n",
    "corr = ret.corr().to_numpy() # correlation matrix\n",
    "#std = np.diag(cov).reshape(-1,1) # standard deviation vector\n",
    "skew = ret.skew()\n",
    "kurt = ret.kurt()\n",
    "\n",
    "corr_ret = np.corrcoef(ret, rowvar=False) #Matrix of correlation of the returns"
   ]
  },
  {
   "cell_type": "code",
   "execution_count": 34,
   "metadata": {},
   "outputs": [
    {
     "data": {
      "text/plain": [
       "(9, 3)"
      ]
     },
     "execution_count": 34,
     "metadata": {},
     "output_type": "execute_result"
    }
   ],
   "source": [
    "kk = np.array([[1,2,3],[4,5,6],[7,8,9], [10,11,12], [13,14,15], [16,17,18], [19,20,21], [22,23,24], [25,26,27]])\n",
    "kk.shape"
   ]
  },
  {
   "cell_type": "code",
   "execution_count": 31,
   "metadata": {},
   "outputs": [],
   "source": [
    "kk_std = np.array([1, 10, 100]).reshape(-1, 1)"
   ]
  },
  {
   "cell_type": "code",
   "execution_count": 33,
   "metadata": {},
   "outputs": [
    {
     "data": {
      "text/plain": [
       "(3, 1)"
      ]
     },
     "execution_count": 33,
     "metadata": {},
     "output_type": "execute_result"
    }
   ],
   "source": [
    "kk_std.shape"
   ]
  },
  {
   "cell_type": "code",
   "execution_count": 32,
   "metadata": {},
   "outputs": [
    {
     "data": {
      "text/plain": [
       "array([[   1,   20,  300],\n",
       "       [   4,   50,  600],\n",
       "       [   7,   80,  900],\n",
       "       [  10,  110, 1200],\n",
       "       [  13,  140, 1500],\n",
       "       [  16,  170, 1800],\n",
       "       [  19,  200, 2100],\n",
       "       [  22,  230, 2400],\n",
       "       [  25,  260, 2700]])"
      ]
     },
     "execution_count": 32,
     "metadata": {},
     "output_type": "execute_result"
    }
   ],
   "source": [
    "kk * kk_std.T"
   ]
  },
  {
   "cell_type": "code",
   "execution_count": 49,
   "metadata": {},
   "outputs": [
    {
     "data": {
      "text/plain": [
       "(1, 9)"
      ]
     },
     "execution_count": 49,
     "metadata": {},
     "output_type": "execute_result"
    }
   ],
   "source": [
    "std.T.shape"
   ]
  },
  {
   "cell_type": "code",
   "execution_count": 51,
   "metadata": {},
   "outputs": [
    {
     "data": {
      "text/plain": [
       "array([[-8.12210024e-04,  6.25874492e-04,  8.84057685e-05, ...,\n",
       "        -6.92289728e-04, -3.64146187e-04,  3.17225107e-04],\n",
       "       [-6.48448230e-04, -6.48790067e-04, -2.08310113e-04, ...,\n",
       "        -9.40266500e-05,  4.56173510e-04,  7.74422339e-04],\n",
       "       [ 7.51178751e-04,  4.39957978e-04,  5.03026632e-04, ...,\n",
       "        -1.22022682e-04,  1.26905722e-05,  5.65135382e-04],\n",
       "       ...,\n",
       "       [-3.59405842e-04,  2.75407976e-04,  7.09507157e-05, ...,\n",
       "         1.98758265e-04, -2.25111639e-04,  2.00636976e-04],\n",
       "       [-5.76668345e-04, -3.06261254e-04, -1.16426800e-04, ...,\n",
       "         9.70050486e-05, -4.61024024e-05, -6.84606528e-04],\n",
       "       [ 4.03444922e-04, -3.86191223e-04, -2.40635770e-04, ...,\n",
       "         6.92806103e-04,  7.80035900e-04, -4.40317309e-04]])"
      ]
     },
     "execution_count": 51,
     "metadata": {},
     "output_type": "execute_result"
    }
   ],
   "source": [
    "np.multiply((samp_ind @ L.T), std.T)"
   ]
  },
  {
   "cell_type": "code",
   "execution_count": 7,
   "metadata": {},
   "outputs": [],
   "source": [
    "L = np.linalg.cholesky(cov) # Cholesky decomposition of the covariance matrix of the returns of the assets\n",
    "\n",
    "samp_norm = (samp_ind @ L.T) * std.T + mu.T # a sample of a normal distribution with mean mu, stnadard deviation std and  with correlation matrix corr\n",
    "\n",
    "corr_samp_norm = np.corrcoef(samp_norm, rowvar=False) #Matrix of correlation of the generated sample using the correlation matrix"
   ]
  },
  {
   "cell_type": "code",
   "execution_count": 55,
   "metadata": {},
   "outputs": [
    {
     "data": {
      "text/plain": [
       "AAPL     0.027351\n",
       "APA      0.028121\n",
       "CMCSA    0.022247\n",
       "CPB      0.015193\n",
       "CSCO     0.025164\n",
       "JCI      0.023253\n",
       "MO       0.016641\n",
       "MSFT     0.019957\n",
       "TGT      0.020405\n",
       "dtype: float64"
      ]
     },
     "execution_count": 55,
     "metadata": {},
     "output_type": "execute_result"
    }
   ],
   "source": [
    "np.std(ret, axis=0)"
   ]
  },
  {
   "cell_type": "code",
   "execution_count": 52,
   "metadata": {},
   "outputs": [
    {
     "data": {
      "text/plain": [
       "array([[-0.02969537,  0.02225684,  0.00397376, -0.02254427, -0.02246175,\n",
       "         0.02978716, -0.0416003 , -0.01824641,  0.01554606],\n",
       "       [-0.02370804, -0.02307174, -0.00936336,  0.01973963, -0.02220107,\n",
       "        -0.01626023, -0.00565014,  0.02285766,  0.03795165]])"
      ]
     },
     "execution_count": 52,
     "metadata": {},
     "output_type": "execute_result"
    }
   ],
   "source": [
    "kk_2 = (samp_ind @ L.T)[:2, :]\n",
    "kk_2"
   ]
  },
  {
   "cell_type": "code",
   "execution_count": 54,
   "metadata": {},
   "outputs": [
    {
     "data": {
      "text/plain": [
       "array([[0.02735141, 0.02812055, 0.02224737, 0.01519331, 0.02516393,\n",
       "        0.02325333, 0.01664146, 0.01995714, 0.0204055 ]])"
      ]
     },
     "execution_count": 54,
     "metadata": {},
     "output_type": "execute_result"
    }
   ],
   "source": [
    "std.T"
   ]
  },
  {
   "cell_type": "code",
   "execution_count": 53,
   "metadata": {},
   "outputs": [
    {
     "data": {
      "text/plain": [
       "array([[-8.12210024e-04,  6.25874492e-04,  8.84057685e-05,\n",
       "        -3.42522072e-04, -5.65225930e-04,  6.92650629e-04,\n",
       "        -6.92289728e-04, -3.64146187e-04,  3.17225107e-04],\n",
       "       [-6.48448230e-04, -6.48790067e-04, -2.08310113e-04,\n",
       "         2.99910204e-04, -5.58666128e-04, -3.78104513e-04,\n",
       "        -9.40266500e-05,  4.56173510e-04,  7.74422339e-04]])"
      ]
     },
     "execution_count": 53,
     "metadata": {},
     "output_type": "execute_result"
    }
   ],
   "source": [
    "kk_2 *std.T"
   ]
  },
  {
   "cell_type": "code",
   "execution_count": 56,
   "metadata": {},
   "outputs": [],
   "source": [
    "kk_norm = np.zeros((num_datos ,num_act))\n",
    "for i in range(num_act):\n",
    "    kk_norm[:, i] = samp_ind[:,i] * std[i] + mu[i]"
   ]
  },
  {
   "cell_type": "code",
   "execution_count": 61,
   "metadata": {},
   "outputs": [],
   "source": [
    "kk_norm2 = (samp_ind @ L.T) * std.T + mu.T"
   ]
  },
  {
   "cell_type": "code",
   "execution_count": 21,
   "metadata": {},
   "outputs": [],
   "source": [
    "samp_norm = (samp_ind @ L.T) * kk_std.T + kk_mu.T # a sample of a normal distribution with mean mu, stnadard deviation std and  with correlation matrix corr\n",
    "\n",
    "corr_samp_norm = np.corrcoef(samp_norm, rowvar=False) #Matrix of correlation of the generated sample using the correlation matrix"
   ]
  },
  {
   "cell_type": "code",
   "execution_count": 19,
   "metadata": {},
   "outputs": [
    {
     "data": {
      "text/plain": [
       "array([[-3.35879156e-05,  1.55411418e-05,  2.70490909e-06, ...,\n",
       "        -2.69641215e-05, -1.69964012e-05,  1.09998078e-05],\n",
       "       [-2.68157543e-05, -1.61101653e-05, -6.37353852e-06, ...,\n",
       "        -3.66227178e-06,  2.12916763e-05,  2.68531497e-05],\n",
       "       [ 3.10640447e-05,  1.09246377e-05,  1.53908127e-05, ...,\n",
       "        -4.75267700e-06,  5.92293965e-07,  1.95961283e-05],\n",
       "       ...,\n",
       "       [-1.48627728e-05,  6.83867847e-06,  2.17084240e-06, ...,\n",
       "         7.74146979e-06, -1.05069765e-05,  6.95711084e-06],\n",
       "       [-2.38473882e-05, -7.60480204e-06, -3.56223814e-06, ...,\n",
       "         3.77825782e-06, -2.15180253e-06, -2.37388068e-05],\n",
       "       [ 1.66839531e-05, -9.58954686e-06, -7.36260048e-06, ...,\n",
       "         2.69842467e-05,  3.64078838e-05, -1.52680356e-05]])"
      ]
     },
     "execution_count": 19,
     "metadata": {},
     "output_type": "execute_result"
    }
   ],
   "source": [
    "(samp_ind @ L.T) * kk_mu.T"
   ]
  },
  {
   "cell_type": "code",
   "execution_count": 62,
   "metadata": {},
   "outputs": [
    {
     "name": "stderr",
     "output_type": "stream",
     "text": [
      "No artists with labels found to put in legend.  Note that artists whose label start with an underscore are ignored when legend() is called with no argument.\n",
      "No artists with labels found to put in legend.  Note that artists whose label start with an underscore are ignored when legend() is called with no argument.\n"
     ]
    },
    {
     "data": {
      "text/plain": [
       "(-0.1453009476540244, 0.15657854479769123)"
      ]
     },
     "execution_count": 62,
     "metadata": {},
     "output_type": "execute_result"
    },
    {
     "data": {
      "image/png": "[encoded data removed]",
      "text/plain": [
       "<Figure size 1800x500 with 2 Axes>"
      ]
     },
     "metadata": {},
     "output_type": "display_data"
    }
   ],
   "source": [
    "\n",
    "ejemplo = 3\n",
    "\n",
    "fig, axs = plt.subplots(1, 2, figsize=(18, 5))\n",
    "\n",
    "# Primer histograma en el primer subplot\n",
    "axs[0].hist(ret.iloc[:, ejemplo], bins=100, alpha=0.5, color='blue')\n",
    "axs[0].set_xlabel('Valores')\n",
    "axs[0].set_ylabel('Frecuencia')\n",
    "axs[0].legend(loc='upper right')\n",
    "axs[0].set_title('Retornos reales')\n",
    "\n",
    "# Segundo histograma en el segundo subplot\n",
    "#axs[1].hist(samp_norm[:, ejemplo], bins=100, alpha=0.5, color='red')\n",
    "axs[1].hist(kk_norm2[:, ejemplo], bins=100, alpha=0.5, color='red')\n",
    "axs[1].set_xlabel('Valores')\n",
    "axs[1].set_ylabel('Frecuencia')\n",
    "axs[1].legend(loc='upper right')\n",
    "axs[1].set_title('5 grados libertad')\n",
    "\n",
    "axs[1].set_xlim(axs[0].get_xlim())\n",
    "\n",
    "# # Segundo histograma en el segundo subplot\n",
    "# #axs[1].hist(samp_norm[:, ejemplo], bins=100, alpha=0.5, color='red')\n",
    "# axs[2].hist(kk_norm_3[:, ejemplo], bins=100, alpha=0.5, color='red')\n",
    "# axs[2].set_xlabel('Valores')\n",
    "# axs[2].set_ylabel('Frecuencia')\n",
    "# axs[2].legend(loc='upper right')\n",
    "# axs[2].set_title('5 grados libertad')\n",
    "\n",
    "# axs[2].set_xlim(axs[0].get_xlim())"
   ]
  }
 ],
 "metadata": {
  "kernelspec": {
   "display_name": "venv",
   "language": "python",
   "name": "python3"
  },
  "language_info": {
   "codemirror_mode": {
    "name": "ipython",
    "version": 3
   },
   "file_extension": ".py",
   "mimetype": "text/x-python",
   "name": "python",
   "nbconvert_exporter": "python",
   "pygments_lexer": "ipython3",
   "version": "3.11.5"
  },
  "orig_nbformat": 4
 },
 "nbformat": 4,
 "nbformat_minor": 2
}
