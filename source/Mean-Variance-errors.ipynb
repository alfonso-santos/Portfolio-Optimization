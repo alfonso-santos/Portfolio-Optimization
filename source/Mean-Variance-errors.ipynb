{
 "cells": [
  {
   "cell_type": "code",
   "execution_count": 1,
   "metadata": {},
   "outputs": [],
   "source": [
    "import numpy as np\n",
    "import pandas as pd\n",
    "import matplotlib.pyplot as plt\n",
    "import seaborn as sns\n",
    "import yfinance as yf\n",
    "import scipy.stats as stats\n",
    "import matplotlib.patches as patches\n",
    "import plotly.express as px\n",
    "\n",
    "from utils import dibuja_covar, dibuja_covar_ax\n",
    "\n",
    "plt.style.use('ggplot')\n"
   ]
  },
  {
   "cell_type": "code",
   "execution_count": 2,
   "metadata": {},
   "outputs": [],
   "source": [
    "#definimos los ticvkers de los activos que vamos a usar\n",
    "assets = ['AAPL', 'APA', 'CMCSA', 'CPB', 'JCI', 'MO', 'MSFT', 'TGT']"
   ]
  },
  {
   "cell_type": "code",
   "execution_count": 3,
   "metadata": {},
   "outputs": [
    {
     "name": "stdout",
     "output_type": "stream",
     "text": [
      "[*********************100%%**********************]  8 of 8 completed\n"
     ]
    }
   ],
   "source": [
    "# Nos bajamos los precios de cierre ajustados entre dos fechas\n",
    "start = '1990-01-02'\n",
    "end = '2022-12-31'\n",
    "\n",
    "prices = yf.download(assets, start=start, end=end)['Adj Close']\n",
    "ret = prices.pct_change().dropna()"
   ]
  },
  {
   "cell_type": "markdown",
   "metadata": {},
   "source": [
    "$$\\epsilon_{\\mu} = \\frac{\\sigma}{\\sqrt{T}}$$\n",
    "\n",
    "donde:\n",
    "-  $\\epsilon_{\\mu}$ es el error cometido en la estimación de la media\n",
    "\n",
    "- $\\sigma$ es la volatilidad del activo\n",
    "\n",
    "- $T$ es la longitud del periodo de medida"
   ]
  },
  {
   "cell_type": "code",
   "execution_count": 46,
   "metadata": {},
   "outputs": [
    {
     "data": {
      "text/plain": [
       "['1990', '1991']"
      ]
     },
     "execution_count": 46,
     "metadata": {},
     "output_type": "execute_result"
    }
   ],
   "source": [
    "years = ret.index.year.unique()\n",
    "years_str = [str(year) for year in years]\n",
    "lista_de_listas = list(zip(years_str[:-1], years_str[1:]))\n",
    "# Convertir las tuplas en listas\n",
    "lista_de_listas = [list(tupla) for tupla in lista_de_listas]\n",
    "lista_de_listas[0]"
   ]
  },
  {
   "cell_type": "code",
   "execution_count": 60,
   "metadata": {},
   "outputs": [
    {
     "data": {
      "text/plain": [
       "[1990, 1991]"
      ]
     },
     "execution_count": 60,
     "metadata": {},
     "output_type": "execute_result"
    }
   ],
   "source": [
    "years = ret.index.year.unique()\n",
    "lista_de_listas = list(zip(years[:-1], years[1:]))\n",
    "# Convertir las tuplas en listas\n",
    "lista_de_listas = [list(tupla) for tupla in lista_de_listas]\n",
    "lista_de_listas[0]\n",
    "ret[ret.index.year.isin(lista_de_listas[0])]"
   ]
  },
  {
   "cell_type": "markdown",
   "metadata": {},
   "source": [
    "Calculamos los errores cometidos cuuando empleamos periodos de un año. En este caso, como $T=1$, el error es igual a la volatilidad del activo."
   ]
  },
  {
   "cell_type": "code",
   "execution_count": 16,
   "metadata": {},
   "outputs": [],
   "source": [
    "years = ret.index.year.unique()\n",
    "years_str = [str(year) for year in years]\n",
    "\n",
    "mu_año = pd.DataFrame(index=years, columns=assets)\n",
    "error_mu = pd.DataFrame(index=years, columns=assets)\n",
    "\n",
    "for año in years:\n",
    "    ret_year = ret.loc[str(año)]\n",
    "    mu_tmp = ret_year.mean()\n",
    "    mu_año.loc[año] = mu_tmp*252\n",
    "    std_tmp = ret_year.std()*np.sqrt(252)\n",
    "    # T = ret_year.shape[0]\n",
    "    # eps_mu = std_tmp / np.sqrt(T)\n",
    "    error_mu.loc[año] = std_tmp\n"
   ]
  },
  {
   "cell_type": "code",
   "execution_count": 15,
   "metadata": {},
   "outputs": [
    {
     "data": {
      "application/vnd.plotly.v1+json": {
       "config": {
        "plotlyServerURL": "https://plot.ly"
       },
       "data": [
        {
         "hovertemplate": "variable=AAPL<br>Date=%{x}<br>value=%{y}<extra></extra>",
         "legendgroup": "AAPL",
         "line": {
          "color": "#636efa",
          "dash": "solid"
         },
         "marker": {
          "symbol": "circle"
         },
         "mode": "lines",
         "name": "AAPL",
         "orientation": "h",
         "showlegend": true,
         "type": "scatter",
         "x": [
          1990,
          1991,
          1992,
          1993,
          1994,
          1995,
          1996,
          1997,
          1998,
          1999,
          2000,
          2001,
          2002,
          2003,
          2004,
          2005,
          2006,
          2007,
          2008,
          2009,
          2010,
          2011,
          2012,
          2013,
          2014,
          2015,
          2016,
          2017,
          2018,
          2019,
          2020,
          2021,
          2022
         ],
         "xaxis": "x",
         "y": [
          0.4343493739573997,
          0.4646034442630414,
          0.3553286385905707,
          0.5019837452545886,
          0.4372248049497168,
          0.41384611634917673,
          0.5095537276472669,
          0.6423257627385892,
          0.6216568911146738,
          0.5884742127344622,
          0.8752820810821087,
          0.6244663093684003,
          0.4845839196598133,
          0.37082127702841167,
          0.40431923995239205,
          0.388578981700788,
          0.38519282325995663,
          0.3771366257260611,
          0.5820480782621317,
          0.33921962366101827,
          0.2675863892783364,
          0.2625559183285755,
          0.2947308309529776,
          0.2855273994121581,
          0.2165745103757931,
          0.2673732158425627,
          0.23338332268123016,
          0.1760571815966007,
          0.28742124152594845,
          0.2613836898596335,
          0.4664968793412258,
          0.2510192711450732,
          0.3569642819316708
         ],
         "yaxis": "y"
        },
        {
         "hovertemplate": "variable=APA<br>Date=%{x}<br>value=%{y}<extra></extra>",
         "legendgroup": "APA",
         "line": {
          "color": "#EF553B",
          "dash": "solid"
         },
         "marker": {
          "symbol": "circle"
         },
         "mode": "lines",
         "name": "APA",
         "orientation": "h",
         "showlegend": true,
         "type": "scatter",
         "x": [
          1990,
          1991,
          1992,
          1993,
          1994,
          1995,
          1996,
          1997,
          1998,
          1999,
          2000,
          2001,
          2002,
          2003,
          2004,
          2005,
          2006,
          2007,
          2008,
          2009,
          2010,
          2011,
          2012,
          2013,
          2014,
          2015,
          2016,
          2017,
          2018,
          2019,
          2020,
          2021,
          2022
         ],
         "xaxis": "x",
         "y": [
          0.4284830120838515,
          0.38939373668560273,
          0.36337452561603883,
          0.36861558242523396,
          0.3646376326840126,
          0.27922187756765954,
          0.27604213286187396,
          0.3032599877166008,
          0.4319692441258255,
          0.5007321413323795,
          0.5390452607860303,
          0.43275238143004574,
          0.3133554781857806,
          0.24215364733650818,
          0.2696303860385263,
          0.31820793439750844,
          0.27526120365763307,
          0.27409189857326677,
          0.7192291025986891,
          0.42685223522441873,
          0.28998138525116035,
          0.3856261094186595,
          0.2538958071194907,
          0.22672667525328133,
          0.271348966934526,
          0.4211747720492735,
          0.48350821952376527,
          0.3133556595084369,
          0.3843045232182256,
          0.49850296924512416,
          1.2170697457417856,
          0.5764370793463252,
          0.5889277712332115
         ],
         "yaxis": "y"
        },
        {
         "hovertemplate": "variable=CMCSA<br>Date=%{x}<br>value=%{y}<extra></extra>",
         "legendgroup": "CMCSA",
         "line": {
          "color": "#00cc96",
          "dash": "solid"
         },
         "marker": {
          "symbol": "circle"
         },
         "mode": "lines",
         "name": "CMCSA",
         "orientation": "h",
         "showlegend": true,
         "type": "scatter",
         "x": [
          1990,
          1991,
          1992,
          1993,
          1994,
          1995,
          1996,
          1997,
          1998,
          1999,
          2000,
          2001,
          2002,
          2003,
          2004,
          2005,
          2006,
          2007,
          2008,
          2009,
          2010,
          2011,
          2012,
          2013,
          2014,
          2015,
          2016,
          2017,
          2018,
          2019,
          2020,
          2021,
          2022
         ],
         "xaxis": "x",
         "y": [
          0.4953048738685557,
          0.39897107975560586,
          0.3471807586073054,
          0.5052616433787027,
          0.4240431524000791,
          0.3370451187579317,
          0.2821860260849232,
          0.3755944049190537,
          0.4256607815744314,
          0.5695588217318133,
          0.5814855555519737,
          0.2915680371021262,
          0.6045865317988417,
          0.3562802761554419,
          0.2295412253173558,
          0.1733913079145986,
          0.19275639503284028,
          0.2844125799614242,
          0.5879889750048931,
          0.4410559659532561,
          0.2676906540311697,
          0.2860487636564455,
          0.18351137691420713,
          0.19811572701252414,
          0.18626772469255304,
          0.2065919317877275,
          0.17065936447760963,
          0.19412828564803386,
          0.28078515704383356,
          0.19089271985936973,
          0.3820291300633556,
          0.24451910592019852,
          0.297885396924663
         ],
         "yaxis": "y"
        },
        {
         "hovertemplate": "variable=CPB<br>Date=%{x}<br>value=%{y}<extra></extra>",
         "legendgroup": "CPB",
         "line": {
          "color": "#ab63fa",
          "dash": "solid"
         },
         "marker": {
          "symbol": "circle"
         },
         "mode": "lines",
         "name": "CPB",
         "orientation": "h",
         "showlegend": true,
         "type": "scatter",
         "x": [
          1990,
          1991,
          1992,
          1993,
          1994,
          1995,
          1996,
          1997,
          1998,
          1999,
          2000,
          2001,
          2002,
          2003,
          2004,
          2005,
          2006,
          2007,
          2008,
          2009,
          2010,
          2011,
          2012,
          2013,
          2014,
          2015,
          2016,
          2017,
          2018,
          2019,
          2020,
          2021,
          2022
         ],
         "xaxis": "x",
         "y": [
          0.26784890653440485,
          0.2581934024667051,
          0.26215680813843756,
          0.24820083112845712,
          0.21484717387776386,
          0.1965525468553988,
          0.21524702188485426,
          0.2869168198363965,
          0.2967454563726065,
          0.32723019729125996,
          0.46740354160728537,
          0.23383423388465238,
          0.278220874674462,
          0.21946632950396347,
          0.17070703377340357,
          0.1384693852831041,
          0.1294403830521089,
          0.1945949604970604,
          0.3182267727628696,
          0.19726920442284115,
          0.14398947792109693,
          0.16998140067049977,
          0.12486924953032245,
          0.2003222361458768,
          0.14896226466160076,
          0.17254499987406302,
          0.20449315438331045,
          0.23150686731748235,
          0.30812899425463264,
          0.24242977942219,
          0.32255240058164303,
          0.2194504411518594,
          0.23868551589593276
         ],
         "yaxis": "y"
        },
        {
         "hovertemplate": "variable=JCI<br>Date=%{x}<br>value=%{y}<extra></extra>",
         "legendgroup": "JCI",
         "line": {
          "color": "#FFA15A",
          "dash": "solid"
         },
         "marker": {
          "symbol": "circle"
         },
         "mode": "lines",
         "name": "JCI",
         "orientation": "h",
         "showlegend": true,
         "type": "scatter",
         "x": [
          1990,
          1991,
          1992,
          1993,
          1994,
          1995,
          1996,
          1997,
          1998,
          1999,
          2000,
          2001,
          2002,
          2003,
          2004,
          2005,
          2006,
          2007,
          2008,
          2009,
          2010,
          2011,
          2012,
          2013,
          2014,
          2015,
          2016,
          2017,
          2018,
          2019,
          2020,
          2021,
          2022
         ],
         "xaxis": "x",
         "y": [
          0.3329125179613324,
          0.34636712765390976,
          0.25957485029115335,
          0.23752828230512918,
          0.20313290778878723,
          0.18766762052003652,
          0.25269427430924796,
          0.3006863602917388,
          0.35495520762131844,
          0.48529381710165725,
          0.5166793998142405,
          0.3383906636582884,
          1.1278415117114209,
          0.3581817271740839,
          0.21770511129854642,
          0.23311857512310513,
          0.19566073542903398,
          0.5865455380249857,
          0.5036129290271769,
          0.4208055078745429,
          0.22635631117816268,
          0.3086820746636997,
          0.19936487041212458,
          0.18873250917793855,
          0.17625329775283716,
          0.19199777804129917,
          0.2559162837840999,
          0.20019060398820013,
          0.261837877710172,
          0.18285463925842033,
          0.42432907829681904,
          0.21707476048192825,
          0.32466109991339703
         ],
         "yaxis": "y"
        },
        {
         "hovertemplate": "variable=MO<br>Date=%{x}<br>value=%{y}<extra></extra>",
         "legendgroup": "MO",
         "line": {
          "color": "#19d3f3",
          "dash": "solid"
         },
         "marker": {
          "symbol": "circle"
         },
         "mode": "lines",
         "name": "MO",
         "orientation": "h",
         "showlegend": true,
         "type": "scatter",
         "x": [
          1990,
          1991,
          1992,
          1993,
          1994,
          1995,
          1996,
          1997,
          1998,
          1999,
          2000,
          2001,
          2002,
          2003,
          2004,
          2005,
          2006,
          2007,
          2008,
          2009,
          2010,
          2011,
          2012,
          2013,
          2014,
          2015,
          2016,
          2017,
          2018,
          2019,
          2020,
          2021,
          2022
         ],
         "xaxis": "x",
         "y": [
          0.263513694995096,
          0.2241879889821342,
          0.18543801799338847,
          0.3396080411665264,
          0.2413335211398556,
          0.19355744887236964,
          0.2955004854726289,
          0.3616286984991906,
          0.30268519731978144,
          0.44925602966925604,
          0.4750683384848466,
          0.31067780625087094,
          0.3604603823364915,
          0.3174556797783276,
          0.22210775668434252,
          0.18013777666669417,
          0.16573038059335934,
          0.15658524604297377,
          0.38082141218207116,
          0.19732438074135605,
          0.14863460242254178,
          0.16497273296235918,
          0.1434887621079124,
          0.14595653822774088,
          0.14165979781616095,
          0.18749747157130336,
          0.15615479470094257,
          0.16348878811685705,
          0.23914909125744424,
          0.2459506898594448,
          0.36310972832377986,
          0.21140815144686212,
          0.2489682260520923
         ],
         "yaxis": "y"
        },
        {
         "hovertemplate": "variable=MSFT<br>Date=%{x}<br>value=%{y}<extra></extra>",
         "legendgroup": "MSFT",
         "line": {
          "color": "#FF6692",
          "dash": "solid"
         },
         "marker": {
          "symbol": "circle"
         },
         "mode": "lines",
         "name": "MSFT",
         "orientation": "h",
         "showlegend": true,
         "type": "scatter",
         "x": [
          1990,
          1991,
          1992,
          1993,
          1994,
          1995,
          1996,
          1997,
          1998,
          1999,
          2000,
          2001,
          2002,
          2003,
          2004,
          2005,
          2006,
          2007,
          2008,
          2009,
          2010,
          2011,
          2012,
          2013,
          2014,
          2015,
          2016,
          2017,
          2018,
          2019,
          2020,
          2021,
          2022
         ],
         "xaxis": "x",
         "y": [
          0.3877609690865745,
          0.3678207021381035,
          0.3432189348101354,
          0.3033744846106108,
          0.2739839641861313,
          0.3519969007517463,
          0.29183552022198694,
          0.3374240385534908,
          0.3782784297384356,
          0.38060314740715956,
          0.5626069926299863,
          0.4417135616071067,
          0.4286440997247015,
          0.29013336430406883,
          0.17135730502893612,
          0.14383002480671148,
          0.20728061701402525,
          0.2289779829561687,
          0.4850296908832169,
          0.3717738313477215,
          0.21966321726405816,
          0.23442706378014472,
          0.20789819066600693,
          0.2493635432615143,
          0.19017063005646062,
          0.2820604934821478,
          0.22692008487025334,
          0.14802674814252612,
          0.282639954653196,
          0.19828527295020587,
          0.4388405510537905,
          0.21048713120461635,
          0.3531333925911685
         ],
         "yaxis": "y"
        },
        {
         "hovertemplate": "variable=TGT<br>Date=%{x}<br>value=%{y}<extra></extra>",
         "legendgroup": "TGT",
         "line": {
          "color": "#B6E880",
          "dash": "solid"
         },
         "marker": {
          "symbol": "circle"
         },
         "mode": "lines",
         "name": "TGT",
         "orientation": "h",
         "showlegend": true,
         "type": "scatter",
         "x": [
          1990,
          1991,
          1992,
          1993,
          1994,
          1995,
          1996,
          1997,
          1998,
          1999,
          2000,
          2001,
          2002,
          2003,
          2004,
          2005,
          2006,
          2007,
          2008,
          2009,
          2010,
          2011,
          2012,
          2013,
          2014,
          2015,
          2016,
          2017,
          2018,
          2019,
          2020,
          2021,
          2022
         ],
         "xaxis": "x",
         "y": [
          0.26572405931764614,
          0.2548974718008679,
          0.2627017983574812,
          0.23584752040684873,
          0.22124397332473092,
          0.22392934409305254,
          0.3005639286415952,
          0.3754172904806906,
          0.45867170326621504,
          0.36694389745591427,
          0.5228698403357914,
          0.4401218254083312,
          0.44926937894652696,
          0.302899644800867,
          0.2246433544713676,
          0.23142756374369064,
          0.20319975517548727,
          0.331285996601527,
          0.5909059822525471,
          0.3966742032602502,
          0.20223430695583705,
          0.2409379126848358,
          0.1545840604822883,
          0.1620104068916201,
          0.20414081572839143,
          0.2084358129812802,
          0.22937500951110504,
          0.29941163543171045,
          0.2828648023512809,
          0.3323942221882402,
          0.3749301226039007,
          0.23602463051763833,
          0.46167545437389484
         ],
         "yaxis": "y"
        }
       ],
       "layout": {
        "font": {
         "family": "serif"
        },
        "legend": {
         "title": {
          "text": "variable"
         },
         "tracegroupgap": 0
        },
        "template": {
         "data": {
          "bar": [
           {
            "error_x": {
             "color": "#2a3f5f"
            },
            "error_y": {
             "color": "#2a3f5f"
            },
            "marker": {
             "line": {
              "color": "#E5ECF6",
              "width": 0.5
             },
             "pattern": {
              "fillmode": "overlay",
              "size": 10,
              "solidity": 0.2
             }
            },
            "type": "bar"
           }
          ],
          "barpolar": [
           {
            "marker": {
             "line": {
              "color": "#E5ECF6",
              "width": 0.5
             },
             "pattern": {
              "fillmode": "overlay",
              "size": 10,
              "solidity": 0.2
             }
            },
            "type": "barpolar"
           }
          ],
          "carpet": [
           {
            "aaxis": {
             "endlinecolor": "#2a3f5f",
             "gridcolor": "white",
             "linecolor": "white",
             "minorgridcolor": "white",
             "startlinecolor": "#2a3f5f"
            },
            "baxis": {
             "endlinecolor": "#2a3f5f",
             "gridcolor": "white",
             "linecolor": "white",
             "minorgridcolor": "white",
             "startlinecolor": "#2a3f5f"
            },
            "type": "carpet"
           }
          ],
          "choropleth": [
           {
            "colorbar": {
             "outlinewidth": 0,
             "ticks": ""
            },
            "type": "choropleth"
           }
          ],
          "contour": [
           {
            "colorbar": {
             "outlinewidth": 0,
             "ticks": ""
            },
            "colorscale": [
             [
              0,
              "#0d0887"
             ],
             [
              0.1111111111111111,
              "#46039f"
             ],
             [
              0.2222222222222222,
              "#7201a8"
             ],
             [
              0.3333333333333333,
              "#9c179e"
             ],
             [
              0.4444444444444444,
              "#bd3786"
             ],
             [
              0.5555555555555556,
              "#d8576b"
             ],
             [
              0.6666666666666666,
              "#ed7953"
             ],
             [
              0.7777777777777778,
              "#fb9f3a"
             ],
             [
              0.8888888888888888,
              "#fdca26"
             ],
             [
              1,
              "#f0f921"
             ]
            ],
            "type": "contour"
           }
          ],
          "contourcarpet": [
           {
            "colorbar": {
             "outlinewidth": 0,
             "ticks": ""
            },
            "type": "contourcarpet"
           }
          ],
          "heatmap": [
           {
            "colorbar": {
             "outlinewidth": 0,
             "ticks": ""
            },
            "colorscale": [
             [
              0,
              "#0d0887"
             ],
             [
              0.1111111111111111,
              "#46039f"
             ],
             [
              0.2222222222222222,
              "#7201a8"
             ],
             [
              0.3333333333333333,
              "#9c179e"
             ],
             [
              0.4444444444444444,
              "#bd3786"
             ],
             [
              0.5555555555555556,
              "#d8576b"
             ],
             [
              0.6666666666666666,
              "#ed7953"
             ],
             [
              0.7777777777777778,
              "#fb9f3a"
             ],
             [
              0.8888888888888888,
              "#fdca26"
             ],
             [
              1,
              "#f0f921"
             ]
            ],
            "type": "heatmap"
           }
          ],
          "heatmapgl": [
           {
            "colorbar": {
             "outlinewidth": 0,
             "ticks": ""
            },
            "colorscale": [
             [
              0,
              "#0d0887"
             ],
             [
              0.1111111111111111,
              "#46039f"
             ],
             [
              0.2222222222222222,
              "#7201a8"
             ],
             [
              0.3333333333333333,
              "#9c179e"
             ],
             [
              0.4444444444444444,
              "#bd3786"
             ],
             [
              0.5555555555555556,
              "#d8576b"
             ],
             [
              0.6666666666666666,
              "#ed7953"
             ],
             [
              0.7777777777777778,
              "#fb9f3a"
             ],
             [
              0.8888888888888888,
              "#fdca26"
             ],
             [
              1,
              "#f0f921"
             ]
            ],
            "type": "heatmapgl"
           }
          ],
          "histogram": [
           {
            "marker": {
             "pattern": {
              "fillmode": "overlay",
              "size": 10,
              "solidity": 0.2
             }
            },
            "type": "histogram"
           }
          ],
          "histogram2d": [
           {
            "colorbar": {
             "outlinewidth": 0,
             "ticks": ""
            },
            "colorscale": [
             [
              0,
              "#0d0887"
             ],
             [
              0.1111111111111111,
              "#46039f"
             ],
             [
              0.2222222222222222,
              "#7201a8"
             ],
             [
              0.3333333333333333,
              "#9c179e"
             ],
             [
              0.4444444444444444,
              "#bd3786"
             ],
             [
              0.5555555555555556,
              "#d8576b"
             ],
             [
              0.6666666666666666,
              "#ed7953"
             ],
             [
              0.7777777777777778,
              "#fb9f3a"
             ],
             [
              0.8888888888888888,
              "#fdca26"
             ],
             [
              1,
              "#f0f921"
             ]
            ],
            "type": "histogram2d"
           }
          ],
          "histogram2dcontour": [
           {
            "colorbar": {
             "outlinewidth": 0,
             "ticks": ""
            },
            "colorscale": [
             [
              0,
              "#0d0887"
             ],
             [
              0.1111111111111111,
              "#46039f"
             ],
             [
              0.2222222222222222,
              "#7201a8"
             ],
             [
              0.3333333333333333,
              "#9c179e"
             ],
             [
              0.4444444444444444,
              "#bd3786"
             ],
             [
              0.5555555555555556,
              "#d8576b"
             ],
             [
              0.6666666666666666,
              "#ed7953"
             ],
             [
              0.7777777777777778,
              "#fb9f3a"
             ],
             [
              0.8888888888888888,
              "#fdca26"
             ],
             [
              1,
              "#f0f921"
             ]
            ],
            "type": "histogram2dcontour"
           }
          ],
          "mesh3d": [
           {
            "colorbar": {
             "outlinewidth": 0,
             "ticks": ""
            },
            "type": "mesh3d"
           }
          ],
          "parcoords": [
           {
            "line": {
             "colorbar": {
              "outlinewidth": 0,
              "ticks": ""
             }
            },
            "type": "parcoords"
           }
          ],
          "pie": [
           {
            "automargin": true,
            "type": "pie"
           }
          ],
          "scatter": [
           {
            "fillpattern": {
             "fillmode": "overlay",
             "size": 10,
             "solidity": 0.2
            },
            "type": "scatter"
           }
          ],
          "scatter3d": [
           {
            "line": {
             "colorbar": {
              "outlinewidth": 0,
              "ticks": ""
             }
            },
            "marker": {
             "colorbar": {
              "outlinewidth": 0,
              "ticks": ""
             }
            },
            "type": "scatter3d"
           }
          ],
          "scattercarpet": [
           {
            "marker": {
             "colorbar": {
              "outlinewidth": 0,
              "ticks": ""
             }
            },
            "type": "scattercarpet"
           }
          ],
          "scattergeo": [
           {
            "marker": {
             "colorbar": {
              "outlinewidth": 0,
              "ticks": ""
             }
            },
            "type": "scattergeo"
           }
          ],
          "scattergl": [
           {
            "marker": {
             "colorbar": {
              "outlinewidth": 0,
              "ticks": ""
             }
            },
            "type": "scattergl"
           }
          ],
          "scattermapbox": [
           {
            "marker": {
             "colorbar": {
              "outlinewidth": 0,
              "ticks": ""
             }
            },
            "type": "scattermapbox"
           }
          ],
          "scatterpolar": [
           {
            "marker": {
             "colorbar": {
              "outlinewidth": 0,
              "ticks": ""
             }
            },
            "type": "scatterpolar"
           }
          ],
          "scatterpolargl": [
           {
            "marker": {
             "colorbar": {
              "outlinewidth": 0,
              "ticks": ""
             }
            },
            "type": "scatterpolargl"
           }
          ],
          "scatterternary": [
           {
            "marker": {
             "colorbar": {
              "outlinewidth": 0,
              "ticks": ""
             }
            },
            "type": "scatterternary"
           }
          ],
          "surface": [
           {
            "colorbar": {
             "outlinewidth": 0,
             "ticks": ""
            },
            "colorscale": [
             [
              0,
              "#0d0887"
             ],
             [
              0.1111111111111111,
              "#46039f"
             ],
             [
              0.2222222222222222,
              "#7201a8"
             ],
             [
              0.3333333333333333,
              "#9c179e"
             ],
             [
              0.4444444444444444,
              "#bd3786"
             ],
             [
              0.5555555555555556,
              "#d8576b"
             ],
             [
              0.6666666666666666,
              "#ed7953"
             ],
             [
              0.7777777777777778,
              "#fb9f3a"
             ],
             [
              0.8888888888888888,
              "#fdca26"
             ],
             [
              1,
              "#f0f921"
             ]
            ],
            "type": "surface"
           }
          ],
          "table": [
           {
            "cells": {
             "fill": {
              "color": "#EBF0F8"
             },
             "line": {
              "color": "white"
             }
            },
            "header": {
             "fill": {
              "color": "#C8D4E3"
             },
             "line": {
              "color": "white"
             }
            },
            "type": "table"
           }
          ]
         },
         "layout": {
          "annotationdefaults": {
           "arrowcolor": "#2a3f5f",
           "arrowhead": 0,
           "arrowwidth": 1
          },
          "autotypenumbers": "strict",
          "coloraxis": {
           "colorbar": {
            "outlinewidth": 0,
            "ticks": ""
           }
          },
          "colorscale": {
           "diverging": [
            [
             0,
             "#8e0152"
            ],
            [
             0.1,
             "#c51b7d"
            ],
            [
             0.2,
             "#de77ae"
            ],
            [
             0.3,
             "#f1b6da"
            ],
            [
             0.4,
             "#fde0ef"
            ],
            [
             0.5,
             "#f7f7f7"
            ],
            [
             0.6,
             "#e6f5d0"
            ],
            [
             0.7,
             "#b8e186"
            ],
            [
             0.8,
             "#7fbc41"
            ],
            [
             0.9,
             "#4d9221"
            ],
            [
             1,
             "#276419"
            ]
           ],
           "sequential": [
            [
             0,
             "#0d0887"
            ],
            [
             0.1111111111111111,
             "#46039f"
            ],
            [
             0.2222222222222222,
             "#7201a8"
            ],
            [
             0.3333333333333333,
             "#9c179e"
            ],
            [
             0.4444444444444444,
             "#bd3786"
            ],
            [
             0.5555555555555556,
             "#d8576b"
            ],
            [
             0.6666666666666666,
             "#ed7953"
            ],
            [
             0.7777777777777778,
             "#fb9f3a"
            ],
            [
             0.8888888888888888,
             "#fdca26"
            ],
            [
             1,
             "#f0f921"
            ]
           ],
           "sequentialminus": [
            [
             0,
             "#0d0887"
            ],
            [
             0.1111111111111111,
             "#46039f"
            ],
            [
             0.2222222222222222,
             "#7201a8"
            ],
            [
             0.3333333333333333,
             "#9c179e"
            ],
            [
             0.4444444444444444,
             "#bd3786"
            ],
            [
             0.5555555555555556,
             "#d8576b"
            ],
            [
             0.6666666666666666,
             "#ed7953"
            ],
            [
             0.7777777777777778,
             "#fb9f3a"
            ],
            [
             0.8888888888888888,
             "#fdca26"
            ],
            [
             1,
             "#f0f921"
            ]
           ]
          },
          "colorway": [
           "#636efa",
           "#EF553B",
           "#00cc96",
           "#ab63fa",
           "#FFA15A",
           "#19d3f3",
           "#FF6692",
           "#B6E880",
           "#FF97FF",
           "#FECB52"
          ],
          "font": {
           "color": "#2a3f5f"
          },
          "geo": {
           "bgcolor": "white",
           "lakecolor": "white",
           "landcolor": "#E5ECF6",
           "showlakes": true,
           "showland": true,
           "subunitcolor": "white"
          },
          "hoverlabel": {
           "align": "left"
          },
          "hovermode": "closest",
          "mapbox": {
           "style": "light"
          },
          "paper_bgcolor": "white",
          "plot_bgcolor": "#E5ECF6",
          "polar": {
           "angularaxis": {
            "gridcolor": "white",
            "linecolor": "white",
            "ticks": ""
           },
           "bgcolor": "#E5ECF6",
           "radialaxis": {
            "gridcolor": "white",
            "linecolor": "white",
            "ticks": ""
           }
          },
          "scene": {
           "xaxis": {
            "backgroundcolor": "#E5ECF6",
            "gridcolor": "white",
            "gridwidth": 2,
            "linecolor": "white",
            "showbackground": true,
            "ticks": "",
            "zerolinecolor": "white"
           },
           "yaxis": {
            "backgroundcolor": "#E5ECF6",
            "gridcolor": "white",
            "gridwidth": 2,
            "linecolor": "white",
            "showbackground": true,
            "ticks": "",
            "zerolinecolor": "white"
           },
           "zaxis": {
            "backgroundcolor": "#E5ECF6",
            "gridcolor": "white",
            "gridwidth": 2,
            "linecolor": "white",
            "showbackground": true,
            "ticks": "",
            "zerolinecolor": "white"
           }
          },
          "shapedefaults": {
           "line": {
            "color": "#2a3f5f"
           }
          },
          "ternary": {
           "aaxis": {
            "gridcolor": "white",
            "linecolor": "white",
            "ticks": ""
           },
           "baxis": {
            "gridcolor": "white",
            "linecolor": "white",
            "ticks": ""
           },
           "bgcolor": "#E5ECF6",
           "caxis": {
            "gridcolor": "white",
            "linecolor": "white",
            "ticks": ""
           }
          },
          "title": {
           "x": 0.05
          },
          "xaxis": {
           "automargin": true,
           "gridcolor": "white",
           "linecolor": "white",
           "ticks": "",
           "title": {
            "standoff": 15
           },
           "zerolinecolor": "white",
           "zerolinewidth": 2
          },
          "yaxis": {
           "automargin": true,
           "gridcolor": "white",
           "linecolor": "white",
           "ticks": "",
           "title": {
            "standoff": 15
           },
           "zerolinecolor": "white",
           "zerolinewidth": 2
          }
         }
        },
        "title": {
         "text": "ERROR COMETIDO EN LOS RETORNOS ANUALES ESPERADOS"
        },
        "xaxis": {
         "anchor": "y",
         "domain": [
          0,
          1
         ],
         "title": {
          "text": "Año"
         }
        },
        "yaxis": {
         "anchor": "x",
         "domain": [
          0,
          1
         ],
         "title": {
          "text": "Error (€)"
         }
        }
       }
      }
     },
     "metadata": {},
     "output_type": "display_data"
    }
   ],
   "source": [
    "fig = px.line(error_mu, x=error_mu.index, y=error_mu.columns, title=\"ERROR COMETIDO EN LOS RETORNOS ANUALES ESPERADOS\")\n",
    "\n",
    "# Cambiar los títulos de los ejes\n",
    "# Establecer el título del eje x\n",
    "fig.update_layout(xaxis_title=\"Año\", font_family=\"serif\")\n",
    "fig.update_layout(yaxis_title=\"Error (€)\", font_family=\"serif\")\n",
    "#fig.set_yaxis_title(\"Error (€)\")\n",
    "\n",
    "# Mostrar la gráfica\n",
    "fig.show()"
   ]
  },
  {
   "cell_type": "code",
   "execution_count": 17,
   "metadata": {},
   "outputs": [
    {
     "data": {
      "text/html": [
       "<div>\n",
       "<style scoped>\n",
       "    .dataframe tbody tr th:only-of-type {\n",
       "        vertical-align: middle;\n",
       "    }\n",
       "\n",
       "    .dataframe tbody tr th {\n",
       "        vertical-align: top;\n",
       "    }\n",
       "\n",
       "    .dataframe thead th {\n",
       "        text-align: right;\n",
       "    }\n",
       "</style>\n",
       "<table border=\"1\" class=\"dataframe\">\n",
       "  <thead>\n",
       "    <tr style=\"text-align: right;\">\n",
       "      <th></th>\n",
       "      <th>AAPL</th>\n",
       "      <th>APA</th>\n",
       "      <th>CMCSA</th>\n",
       "      <th>CPB</th>\n",
       "      <th>JCI</th>\n",
       "      <th>MO</th>\n",
       "      <th>MSFT</th>\n",
       "      <th>TGT</th>\n",
       "    </tr>\n",
       "    <tr>\n",
       "      <th>Date</th>\n",
       "      <th></th>\n",
       "      <th></th>\n",
       "      <th></th>\n",
       "      <th></th>\n",
       "      <th></th>\n",
       "      <th></th>\n",
       "      <th></th>\n",
       "      <th></th>\n",
       "    </tr>\n",
       "  </thead>\n",
       "  <tbody>\n",
       "    <tr>\n",
       "      <th>1990</th>\n",
       "      <td>0.434349</td>\n",
       "      <td>0.428483</td>\n",
       "      <td>0.495305</td>\n",
       "      <td>0.267849</td>\n",
       "      <td>0.332913</td>\n",
       "      <td>0.263514</td>\n",
       "      <td>0.387761</td>\n",
       "      <td>0.265724</td>\n",
       "    </tr>\n",
       "    <tr>\n",
       "      <th>1991</th>\n",
       "      <td>0.464603</td>\n",
       "      <td>0.389394</td>\n",
       "      <td>0.398971</td>\n",
       "      <td>0.258193</td>\n",
       "      <td>0.346367</td>\n",
       "      <td>0.224188</td>\n",
       "      <td>0.367821</td>\n",
       "      <td>0.254897</td>\n",
       "    </tr>\n",
       "    <tr>\n",
       "      <th>1992</th>\n",
       "      <td>0.355329</td>\n",
       "      <td>0.363375</td>\n",
       "      <td>0.347181</td>\n",
       "      <td>0.262157</td>\n",
       "      <td>0.259575</td>\n",
       "      <td>0.185438</td>\n",
       "      <td>0.343219</td>\n",
       "      <td>0.262702</td>\n",
       "    </tr>\n",
       "  </tbody>\n",
       "</table>\n",
       "</div>"
      ],
      "text/plain": [
       "          AAPL       APA     CMCSA       CPB       JCI        MO      MSFT  \\\n",
       "Date                                                                         \n",
       "1990  0.434349  0.428483  0.495305  0.267849  0.332913  0.263514  0.387761   \n",
       "1991  0.464603  0.389394  0.398971  0.258193  0.346367  0.224188  0.367821   \n",
       "1992  0.355329  0.363375  0.347181  0.262157  0.259575  0.185438  0.343219   \n",
       "\n",
       "           TGT  \n",
       "Date            \n",
       "1990  0.265724  \n",
       "1991  0.254897  \n",
       "1992  0.262702  "
      ]
     },
     "execution_count": 17,
     "metadata": {},
     "output_type": "execute_result"
    }
   ],
   "source": [
    "error_mu.head(3)"
   ]
  },
  {
   "cell_type": "code",
   "execution_count": 18,
   "metadata": {},
   "outputs": [
    {
     "data": {
      "text/html": [
       "<div>\n",
       "<style scoped>\n",
       "    .dataframe tbody tr th:only-of-type {\n",
       "        vertical-align: middle;\n",
       "    }\n",
       "\n",
       "    .dataframe tbody tr th {\n",
       "        vertical-align: top;\n",
       "    }\n",
       "\n",
       "    .dataframe thead th {\n",
       "        text-align: right;\n",
       "    }\n",
       "</style>\n",
       "<table border=\"1\" class=\"dataframe\">\n",
       "  <thead>\n",
       "    <tr style=\"text-align: right;\">\n",
       "      <th></th>\n",
       "      <th>AAPL</th>\n",
       "      <th>APA</th>\n",
       "      <th>CMCSA</th>\n",
       "      <th>CPB</th>\n",
       "      <th>JCI</th>\n",
       "      <th>MO</th>\n",
       "      <th>MSFT</th>\n",
       "      <th>TGT</th>\n",
       "    </tr>\n",
       "    <tr>\n",
       "      <th>Date</th>\n",
       "      <th></th>\n",
       "      <th></th>\n",
       "      <th></th>\n",
       "      <th></th>\n",
       "      <th></th>\n",
       "      <th></th>\n",
       "      <th></th>\n",
       "      <th></th>\n",
       "    </tr>\n",
       "  </thead>\n",
       "  <tbody>\n",
       "    <tr>\n",
       "      <th>1990</th>\n",
       "      <td>0.249773</td>\n",
       "      <td>-0.062925</td>\n",
       "      <td>-0.14921</td>\n",
       "      <td>0.111736</td>\n",
       "      <td>-0.110109</td>\n",
       "      <td>0.260562</td>\n",
       "      <td>0.602917</td>\n",
       "      <td>-0.06827</td>\n",
       "    </tr>\n",
       "    <tr>\n",
       "      <th>1991</th>\n",
       "      <td>0.388052</td>\n",
       "      <td>0.173762</td>\n",
       "      <td>0.330501</td>\n",
       "      <td>0.421688</td>\n",
       "      <td>-0.153712</td>\n",
       "      <td>0.489879</td>\n",
       "      <td>0.861497</td>\n",
       "      <td>0.130033</td>\n",
       "    </tr>\n",
       "    <tr>\n",
       "      <th>1992</th>\n",
       "      <td>0.129228</td>\n",
       "      <td>0.247297</td>\n",
       "      <td>0.212605</td>\n",
       "      <td>0.049776</td>\n",
       "      <td>0.227304</td>\n",
       "      <td>0.00718</td>\n",
       "      <td>0.198058</td>\n",
       "      <td>0.257769</td>\n",
       "    </tr>\n",
       "  </tbody>\n",
       "</table>\n",
       "</div>"
      ],
      "text/plain": [
       "          AAPL       APA     CMCSA       CPB       JCI        MO      MSFT  \\\n",
       "Date                                                                         \n",
       "1990  0.249773 -0.062925  -0.14921  0.111736 -0.110109  0.260562  0.602917   \n",
       "1991  0.388052  0.173762  0.330501  0.421688 -0.153712  0.489879  0.861497   \n",
       "1992  0.129228  0.247297  0.212605  0.049776  0.227304   0.00718  0.198058   \n",
       "\n",
       "           TGT  \n",
       "Date            \n",
       "1990  -0.06827  \n",
       "1991  0.130033  \n",
       "1992  0.257769  "
      ]
     },
     "execution_count": 18,
     "metadata": {},
     "output_type": "execute_result"
    }
   ],
   "source": [
    "mu_año.head(3)"
   ]
  },
  {
   "cell_type": "code",
   "execution_count": 19,
   "metadata": {},
   "outputs": [
    {
     "data": {
      "text/html": [
       "<div>\n",
       "<style scoped>\n",
       "    .dataframe tbody tr th:only-of-type {\n",
       "        vertical-align: middle;\n",
       "    }\n",
       "\n",
       "    .dataframe tbody tr th {\n",
       "        vertical-align: top;\n",
       "    }\n",
       "\n",
       "    .dataframe thead th {\n",
       "        text-align: right;\n",
       "    }\n",
       "</style>\n",
       "<table border=\"1\" class=\"dataframe\">\n",
       "  <thead>\n",
       "    <tr style=\"text-align: right;\">\n",
       "      <th></th>\n",
       "      <th>AAPL</th>\n",
       "      <th>APA</th>\n",
       "      <th>CMCSA</th>\n",
       "      <th>CPB</th>\n",
       "      <th>JCI</th>\n",
       "      <th>MO</th>\n",
       "      <th>MSFT</th>\n",
       "      <th>TGT</th>\n",
       "    </tr>\n",
       "    <tr>\n",
       "      <th>Date</th>\n",
       "      <th></th>\n",
       "      <th></th>\n",
       "      <th></th>\n",
       "      <th></th>\n",
       "      <th></th>\n",
       "      <th></th>\n",
       "      <th></th>\n",
       "      <th></th>\n",
       "    </tr>\n",
       "  </thead>\n",
       "  <tbody>\n",
       "    <tr>\n",
       "      <th>1990</th>\n",
       "      <td>1.738977</td>\n",
       "      <td>-6.809416</td>\n",
       "      <td>-3.31951</td>\n",
       "      <td>2.397148</td>\n",
       "      <td>-3.023486</td>\n",
       "      <td>1.011329</td>\n",
       "      <td>0.643141</td>\n",
       "      <td>-3.892264</td>\n",
       "    </tr>\n",
       "    <tr>\n",
       "      <th>1991</th>\n",
       "      <td>1.197272</td>\n",
       "      <td>2.240965</td>\n",
       "      <td>1.207172</td>\n",
       "      <td>0.612286</td>\n",
       "      <td>-2.253346</td>\n",
       "      <td>0.45764</td>\n",
       "      <td>0.426955</td>\n",
       "      <td>1.960253</td>\n",
       "    </tr>\n",
       "    <tr>\n",
       "      <th>1992</th>\n",
       "      <td>2.749626</td>\n",
       "      <td>1.469387</td>\n",
       "      <td>1.632982</td>\n",
       "      <td>5.26677</td>\n",
       "      <td>1.141971</td>\n",
       "      <td>25.82567</td>\n",
       "      <td>1.732918</td>\n",
       "      <td>1.019135</td>\n",
       "    </tr>\n",
       "  </tbody>\n",
       "</table>\n",
       "</div>"
      ],
      "text/plain": [
       "          AAPL       APA     CMCSA       CPB       JCI        MO      MSFT  \\\n",
       "Date                                                                         \n",
       "1990  1.738977 -6.809416  -3.31951  2.397148 -3.023486  1.011329  0.643141   \n",
       "1991  1.197272  2.240965  1.207172  0.612286 -2.253346   0.45764  0.426955   \n",
       "1992  2.749626  1.469387  1.632982   5.26677  1.141971  25.82567  1.732918   \n",
       "\n",
       "           TGT  \n",
       "Date            \n",
       "1990 -3.892264  \n",
       "1991  1.960253  \n",
       "1992  1.019135  "
      ]
     },
     "execution_count": 19,
     "metadata": {},
     "output_type": "execute_result"
    }
   ],
   "source": [
    "(error_mu/mu_año).head(3)"
   ]
  },
  {
   "cell_type": "code",
   "execution_count": 30,
   "metadata": {},
   "outputs": [
    {
     "data": {
      "application/vnd.plotly.v1+json": {
       "config": {
        "plotlyServerURL": "https://plot.ly"
       },
       "data": [
        {
         "hovertemplate": "variable=AAPL<br>Date=%{x}<br>value=%{y}<extra></extra>",
         "legendgroup": "AAPL",
         "line": {
          "color": "#636efa",
          "dash": "solid"
         },
         "marker": {
          "symbol": "circle"
         },
         "mode": "lines",
         "name": "AAPL",
         "orientation": "h",
         "showlegend": true,
         "type": "scatter",
         "x": [
          1990,
          1991,
          1992,
          1993,
          1994,
          1995,
          1996,
          1997,
          1998,
          1999,
          2000,
          2001,
          2002,
          2003,
          2004,
          2005,
          2006,
          2007,
          2008,
          2009,
          2010,
          2011,
          2012,
          2013,
          2014,
          2015,
          2016,
          2017,
          2018,
          2019,
          2020,
          2021,
          2022
         ],
         "xaxis": "x",
         "y": [
          173.89770973808288,
          119.72720574254711,
          274.96256986773454,
          88.14187190147557,
          110.66578069328207,
          397.16689741528194,
          173.19597579837676,
          242.59699242669953,
          46.880051594417225,
          53.77047249145084,
          112.3714965576362,
          106.39700826235905,
          158.611764714145,
          79.24653765764629,
          34.12060491043355,
          44.18307013296368,
          160.98421373147835,
          40.84560913273,
          87.29614184531107,
          35.249686151406834,
          57.967258420236234,
          100.20134179675449,
          90.05710005818148,
          240.18901800776908,
          59.4137355989415,
          5326.916836595809,
          161.1593949611364,
          42.68945107294463,
          1991.8039610776195,
          38.92658639073704,
          65.95055845420904,
          76.2872883624443,
          146.09292645498485
         ],
         "yaxis": "y"
        },
        {
         "hovertemplate": "variable=APA<br>Date=%{x}<br>value=%{y}<extra></extra>",
         "legendgroup": "APA",
         "line": {
          "color": "#EF553B",
          "dash": "solid"
         },
         "marker": {
          "symbol": "circle"
         },
         "mode": "lines",
         "name": "APA",
         "orientation": "h",
         "showlegend": true,
         "type": "scatter",
         "x": [
          1990,
          1991,
          1992,
          1993,
          1994,
          1995,
          1996,
          1997,
          1998,
          1999,
          2000,
          2001,
          2002,
          2003,
          2004,
          2005,
          2006,
          2007,
          2008,
          2009,
          2010,
          2011,
          2012,
          2013,
          2014,
          2015,
          2016,
          2017,
          2018,
          2019,
          2020,
          2021,
          2022
         ],
         "xaxis": "x",
         "y": [
          680.9416356879033,
          224.09650187929918,
          146.9386968946566,
          123.7320063000557,
          253.97465417502204,
          130.08814357800674,
          125.45475916188276,
          583.4324711992962,
          192.86901924707612,
          98.14313383873012,
          68.40091222951654,
          291.16536206076853,
          165.1484777553793,
          55.32876630470458,
          102.57092936377651,
          88.33670191624738,
          1898.3439538857422,
          51.91994049307592,
          716.8335462413261,
          100.65579878339823,
          150.5869379676298,
          197.90059781281337,
          242.27573793659792,
          180.5465636623468,
          101.60515756861481,
          177.52478445896622,
          98.21141388332626,
          92.2346360085233,
          101.1742397379841,
          374.7996889350015,
          476.9504132318111,
          71.12431972488793,
          79.05219004646045
         ],
         "yaxis": "y"
        },
        {
         "hovertemplate": "variable=CMCSA<br>Date=%{x}<br>value=%{y}<extra></extra>",
         "legendgroup": "CMCSA",
         "line": {
          "color": "#00cc96",
          "dash": "solid"
         },
         "marker": {
          "symbol": "circle"
         },
         "mode": "lines",
         "name": "CMCSA",
         "orientation": "h",
         "showlegend": true,
         "type": "scatter",
         "x": [
          1990,
          1991,
          1992,
          1993,
          1994,
          1995,
          1996,
          1997,
          1998,
          1999,
          2000,
          2001,
          2002,
          2003,
          2004,
          2005,
          2006,
          2007,
          2008,
          2009,
          2010,
          2011,
          2012,
          2013,
          2014,
          2015,
          2016,
          2017,
          2018,
          2019,
          2020,
          2021,
          2022
         ],
         "xaxis": "x",
         "y": [
          331.9509686821035,
          120.71718312772705,
          163.2982299877962,
          66.43410288084452,
          116.89474957551865,
          170.53241600856828,
          631.7673445653433,
          56.601389852612314,
          62.398112722218,
          84.84400717255286,
          2927.3677942983386,
          299.2811953784652,
          250.55015280818486,
          90.57839119029545,
          556.9409370793467,
          73.83478188768876,
          37.69875913083827,
          71.96193559521585,
          577.6820894900525,
          392.2805325116251,
          83.14984138348096,
          203.43475372851697,
          37.0470373685221,
          53.948833775756825,
          132.88340401277452,
          1973.8550493090474,
          71.8299528743326,
          107.59894168576763,
          289.6331751559659,
          61.330019668750765,
          154.79887521927247,
          3253.2014367572897,
          101.1683546071691
         ],
         "yaxis": "y"
        },
        {
         "hovertemplate": "variable=CPB<br>Date=%{x}<br>value=%{y}<extra></extra>",
         "legendgroup": "CPB",
         "line": {
          "color": "#ab63fa",
          "dash": "solid"
         },
         "marker": {
          "symbol": "circle"
         },
         "mode": "lines",
         "name": "CPB",
         "orientation": "h",
         "showlegend": true,
         "type": "scatter",
         "x": [
          1990,
          1991,
          1992,
          1993,
          1994,
          1995,
          1996,
          1997,
          1998,
          1999,
          2000,
          2001,
          2002,
          2003,
          2004,
          2005,
          2006,
          2007,
          2008,
          2009,
          2010,
          2011,
          2012,
          2013,
          2014,
          2015,
          2016,
          2017,
          2018,
          2019,
          2020,
          2021,
          2022
         ],
         "xaxis": "x",
         "y": [
          239.71483338302534,
          61.228551925887764,
          526.6770457963935,
          1113.5818870613186,
          170.35607143803225,
          56.43218086623838,
          64.73416160421607,
          66.6119014353164,
          683.2061825131358,
          118.04349502552711,
          1796.0436028457884,
          247.86124476943593,
          161.92909018792227,
          120.50640659622039,
          115.68440352883171,
          476.36915752993616,
          43.450461117157566,
          445.4674799607707,
          333.91712858115466,
          114.90033216789404,
          207.0988243283109,
          3593.254040156733,
          126.76772557975764,
          80.21177125601149,
          266.1036038214384,
          78.83900741627771,
          111.5207060144066,
          131.76481191267123,
          103.65373645832699,
          51.72888874226976,
          548.5474561719785,
          435.21223503485527,
          72.56836801952893
         ],
         "yaxis": "y"
        },
        {
         "hovertemplate": "variable=JCI<br>Date=%{x}<br>value=%{y}<extra></extra>",
         "legendgroup": "JCI",
         "line": {
          "color": "#FFA15A",
          "dash": "solid"
         },
         "marker": {
          "symbol": "circle"
         },
         "mode": "lines",
         "name": "JCI",
         "orientation": "h",
         "showlegend": true,
         "type": "scatter",
         "x": [
          1990,
          1991,
          1992,
          1993,
          1994,
          1995,
          1996,
          1997,
          1998,
          1999,
          2000,
          2001,
          2002,
          2003,
          2004,
          2005,
          2006,
          2007,
          2008,
          2009,
          2010,
          2011,
          2012,
          2013,
          2014,
          2015,
          2016,
          2017,
          2018,
          2019,
          2020,
          2021,
          2022
         ],
         "xaxis": "x",
         "y": [
          302.34862170820344,
          225.33456969852188,
          114.19707869971265,
          92.25733650504047,
          373.5445408754925,
          43.78114249236621,
          58.78621203873614,
          51.87986483887494,
          61.175572421761984,
          310.2753440748514,
          106.39155443189921,
          283.6706403146719,
          187.9151670959437,
          70.68259303263605,
          66.59283319028557,
          134.77451091758934,
          227.60776810582314,
          85.48195123862811,
          110.56403260360823,
          68.94445805030703,
          114.98157670858853,
          164.10659417972684,
          73.08128585911903,
          50.25213549496068,
          179.02051399130866,
          68.58215513359848,
          66.68808454866934,
          615.2764330035498,
          139.4024194888626,
          50.821241416903696,
          167.50451058828838,
          36.3323876487449,
          199.84239404865093
         ],
         "yaxis": "y"
        },
        {
         "hovertemplate": "variable=MO<br>Date=%{x}<br>value=%{y}<extra></extra>",
         "legendgroup": "MO",
         "line": {
          "color": "#19d3f3",
          "dash": "solid"
         },
         "marker": {
          "symbol": "circle"
         },
         "mode": "lines",
         "name": "MO",
         "orientation": "h",
         "showlegend": true,
         "type": "scatter",
         "x": [
          1990,
          1991,
          1992,
          1993,
          1994,
          1995,
          1996,
          1997,
          1998,
          1999,
          2000,
          2001,
          2002,
          2003,
          2004,
          2005,
          2006,
          2007,
          2008,
          2009,
          2010,
          2011,
          2012,
          2013,
          2014,
          2015,
          2016,
          2017,
          2018,
          2019,
          2020,
          2021,
          2022
         ],
         "xaxis": "x",
         "y": [
          101.13291473848574,
          45.763980931312126,
          2582.5670290376765,
          158.04361283449137,
          207.43086691711508,
          37.92190514741433,
          95.26213816758106,
          127.63889246953093,
          120.4481379951953,
          65.29266334534857,
          57.04181763432177,
          226.705021248536,
          8474.093933633883,
          78.0935487878402,
          115.02726731856842,
          69.08689398318776,
          84.70287323564995,
          73.25638972606392,
          126.05053618652803,
          55.02651690340221,
          49.018672090577795,
          63.9590466441549,
          117.49069021186304,
          55.746869967351564,
          46.22784854580148,
          83.13491622386621,
          78.77942027450767,
          156.85706020323033,
          82.70584694521129,
          231.5786639699557,
          879.0397817362375,
          88.39256867455369,
          334.0095366354264
         ],
         "yaxis": "y"
        },
        {
         "hovertemplate": "variable=MSFT<br>Date=%{x}<br>value=%{y}<extra></extra>",
         "legendgroup": "MSFT",
         "line": {
          "color": "#FF6692",
          "dash": "solid"
         },
         "marker": {
          "symbol": "circle"
         },
         "mode": "lines",
         "name": "MSFT",
         "orientation": "h",
         "showlegend": true,
         "type": "scatter",
         "x": [
          1990,
          1991,
          1992,
          1993,
          1994,
          1995,
          1996,
          1997,
          1998,
          1999,
          2000,
          2001,
          2002,
          2003,
          2004,
          2005,
          2006,
          2007,
          2008,
          2009,
          2010,
          2011,
          2012,
          2013,
          2014,
          2015,
          2016,
          2017,
          2018,
          2019,
          2020,
          2021,
          2022
         ],
         "xaxis": "x",
         "y": [
          64.31414539897531,
          42.69554465500932,
          173.2918175572873,
          2694.1649238770447,
          60.37549113944395,
          83.13207690208564,
          43.48546877507582,
          67.17847761907602,
          45.25105420112289,
          64.17439551150105,
          67.84651481502871,
          83.79645827853793,
          273.3288148317694,
          268.4567597693367,
          168.1450807636649,
          17309.163860665147,
          122.28045043953632,
          106.01637188192194,
          103.565093752326,
          68.54981113258528,
          505.8906146466847,
          1247.576688538774,
          265.7466365275962,
          62.60910676560042,
          72.708191878959,
          115.65784156527829,
          136.57012710882233,
          41.80172822253731,
          123.16297193271184,
          41.77815669059103,
          97.63872170803528,
          47.38234110530916,
          131.83654974084874
         ],
         "yaxis": "y"
        },
        {
         "hovertemplate": "variable=TGT<br>Date=%{x}<br>value=%{y}<extra></extra>",
         "legendgroup": "TGT",
         "line": {
          "color": "#B6E880",
          "dash": "solid"
         },
         "marker": {
          "symbol": "circle"
         },
         "mode": "lines",
         "name": "TGT",
         "orientation": "h",
         "showlegend": true,
         "type": "scatter",
         "x": [
          1990,
          1991,
          1992,
          1993,
          1994,
          1995,
          1996,
          1997,
          1998,
          1999,
          2000,
          2001,
          2002,
          2003,
          2004,
          2005,
          2006,
          2007,
          2008,
          2009,
          2010,
          2011,
          2012,
          2013,
          2014,
          2015,
          2016,
          2017,
          2018,
          2019,
          2020,
          2021,
          2022
         ],
         "xaxis": "x",
         "y": [
          389.2263717470614,
          196.0252912847522,
          101.91349355027161,
          300.90221017963887,
          208.15299385249753,
          209.08457819240377,
          58.716335859126985,
          60.281106916604635,
          77.87858831925982,
          97.52716173277894,
          3785.809299374084,
          126.95056872095533,
          216.75804356184588,
          100.93266400641522,
          67.31099835155241,
          255.72236369568517,
          306.9519051579144,
          481.8465852577744,
          324.9825502413028,
          91.80525424590951,
          79.60143143743022,
          218.98838200186805,
          85.75885934908662,
          156.1853797833608,
          87.09224770798886,
          3684.164592427852,
          429.1532584071212,
          2006.8015356940275,
          328.6137223778213,
          44.51815555279605,
          91.77156133369697,
          75.53900874327432,
          150.08017025947908
         ],
         "yaxis": "y"
        }
       ],
       "layout": {
        "font": {
         "family": "serif"
        },
        "legend": {
         "title": {
          "text": "variable"
         },
         "tracegroupgap": 0
        },
        "template": {
         "data": {
          "bar": [
           {
            "error_x": {
             "color": "#2a3f5f"
            },
            "error_y": {
             "color": "#2a3f5f"
            },
            "marker": {
             "line": {
              "color": "#E5ECF6",
              "width": 0.5
             },
             "pattern": {
              "fillmode": "overlay",
              "size": 10,
              "solidity": 0.2
             }
            },
            "type": "bar"
           }
          ],
          "barpolar": [
           {
            "marker": {
             "line": {
              "color": "#E5ECF6",
              "width": 0.5
             },
             "pattern": {
              "fillmode": "overlay",
              "size": 10,
              "solidity": 0.2
             }
            },
            "type": "barpolar"
           }
          ],
          "carpet": [
           {
            "aaxis": {
             "endlinecolor": "#2a3f5f",
             "gridcolor": "white",
             "linecolor": "white",
             "minorgridcolor": "white",
             "startlinecolor": "#2a3f5f"
            },
            "baxis": {
             "endlinecolor": "#2a3f5f",
             "gridcolor": "white",
             "linecolor": "white",
             "minorgridcolor": "white",
             "startlinecolor": "#2a3f5f"
            },
            "type": "carpet"
           }
          ],
          "choropleth": [
           {
            "colorbar": {
             "outlinewidth": 0,
             "ticks": ""
            },
            "type": "choropleth"
           }
          ],
          "contour": [
           {
            "colorbar": {
             "outlinewidth": 0,
             "ticks": ""
            },
            "colorscale": [
             [
              0,
              "#0d0887"
             ],
             [
              0.1111111111111111,
              "#46039f"
             ],
             [
              0.2222222222222222,
              "#7201a8"
             ],
             [
              0.3333333333333333,
              "#9c179e"
             ],
             [
              0.4444444444444444,
              "#bd3786"
             ],
             [
              0.5555555555555556,
              "#d8576b"
             ],
             [
              0.6666666666666666,
              "#ed7953"
             ],
             [
              0.7777777777777778,
              "#fb9f3a"
             ],
             [
              0.8888888888888888,
              "#fdca26"
             ],
             [
              1,
              "#f0f921"
             ]
            ],
            "type": "contour"
           }
          ],
          "contourcarpet": [
           {
            "colorbar": {
             "outlinewidth": 0,
             "ticks": ""
            },
            "type": "contourcarpet"
           }
          ],
          "heatmap": [
           {
            "colorbar": {
             "outlinewidth": 0,
             "ticks": ""
            },
            "colorscale": [
             [
              0,
              "#0d0887"
             ],
             [
              0.1111111111111111,
              "#46039f"
             ],
             [
              0.2222222222222222,
              "#7201a8"
             ],
             [
              0.3333333333333333,
              "#9c179e"
             ],
             [
              0.4444444444444444,
              "#bd3786"
             ],
             [
              0.5555555555555556,
              "#d8576b"
             ],
             [
              0.6666666666666666,
              "#ed7953"
             ],
             [
              0.7777777777777778,
              "#fb9f3a"
             ],
             [
              0.8888888888888888,
              "#fdca26"
             ],
             [
              1,
              "#f0f921"
             ]
            ],
            "type": "heatmap"
           }
          ],
          "heatmapgl": [
           {
            "colorbar": {
             "outlinewidth": 0,
             "ticks": ""
            },
            "colorscale": [
             [
              0,
              "#0d0887"
             ],
             [
              0.1111111111111111,
              "#46039f"
             ],
             [
              0.2222222222222222,
              "#7201a8"
             ],
             [
              0.3333333333333333,
              "#9c179e"
             ],
             [
              0.4444444444444444,
              "#bd3786"
             ],
             [
              0.5555555555555556,
              "#d8576b"
             ],
             [
              0.6666666666666666,
              "#ed7953"
             ],
             [
              0.7777777777777778,
              "#fb9f3a"
             ],
             [
              0.8888888888888888,
              "#fdca26"
             ],
             [
              1,
              "#f0f921"
             ]
            ],
            "type": "heatmapgl"
           }
          ],
          "histogram": [
           {
            "marker": {
             "pattern": {
              "fillmode": "overlay",
              "size": 10,
              "solidity": 0.2
             }
            },
            "type": "histogram"
           }
          ],
          "histogram2d": [
           {
            "colorbar": {
             "outlinewidth": 0,
             "ticks": ""
            },
            "colorscale": [
             [
              0,
              "#0d0887"
             ],
             [
              0.1111111111111111,
              "#46039f"
             ],
             [
              0.2222222222222222,
              "#7201a8"
             ],
             [
              0.3333333333333333,
              "#9c179e"
             ],
             [
              0.4444444444444444,
              "#bd3786"
             ],
             [
              0.5555555555555556,
              "#d8576b"
             ],
             [
              0.6666666666666666,
              "#ed7953"
             ],
             [
              0.7777777777777778,
              "#fb9f3a"
             ],
             [
              0.8888888888888888,
              "#fdca26"
             ],
             [
              1,
              "#f0f921"
             ]
            ],
            "type": "histogram2d"
           }
          ],
          "histogram2dcontour": [
           {
            "colorbar": {
             "outlinewidth": 0,
             "ticks": ""
            },
            "colorscale": [
             [
              0,
              "#0d0887"
             ],
             [
              0.1111111111111111,
              "#46039f"
             ],
             [
              0.2222222222222222,
              "#7201a8"
             ],
             [
              0.3333333333333333,
              "#9c179e"
             ],
             [
              0.4444444444444444,
              "#bd3786"
             ],
             [
              0.5555555555555556,
              "#d8576b"
             ],
             [
              0.6666666666666666,
              "#ed7953"
             ],
             [
              0.7777777777777778,
              "#fb9f3a"
             ],
             [
              0.8888888888888888,
              "#fdca26"
             ],
             [
              1,
              "#f0f921"
             ]
            ],
            "type": "histogram2dcontour"
           }
          ],
          "mesh3d": [
           {
            "colorbar": {
             "outlinewidth": 0,
             "ticks": ""
            },
            "type": "mesh3d"
           }
          ],
          "parcoords": [
           {
            "line": {
             "colorbar": {
              "outlinewidth": 0,
              "ticks": ""
             }
            },
            "type": "parcoords"
           }
          ],
          "pie": [
           {
            "automargin": true,
            "type": "pie"
           }
          ],
          "scatter": [
           {
            "fillpattern": {
             "fillmode": "overlay",
             "size": 10,
             "solidity": 0.2
            },
            "type": "scatter"
           }
          ],
          "scatter3d": [
           {
            "line": {
             "colorbar": {
              "outlinewidth": 0,
              "ticks": ""
             }
            },
            "marker": {
             "colorbar": {
              "outlinewidth": 0,
              "ticks": ""
             }
            },
            "type": "scatter3d"
           }
          ],
          "scattercarpet": [
           {
            "marker": {
             "colorbar": {
              "outlinewidth": 0,
              "ticks": ""
             }
            },
            "type": "scattercarpet"
           }
          ],
          "scattergeo": [
           {
            "marker": {
             "colorbar": {
              "outlinewidth": 0,
              "ticks": ""
             }
            },
            "type": "scattergeo"
           }
          ],
          "scattergl": [
           {
            "marker": {
             "colorbar": {
              "outlinewidth": 0,
              "ticks": ""
             }
            },
            "type": "scattergl"
           }
          ],
          "scattermapbox": [
           {
            "marker": {
             "colorbar": {
              "outlinewidth": 0,
              "ticks": ""
             }
            },
            "type": "scattermapbox"
           }
          ],
          "scatterpolar": [
           {
            "marker": {
             "colorbar": {
              "outlinewidth": 0,
              "ticks": ""
             }
            },
            "type": "scatterpolar"
           }
          ],
          "scatterpolargl": [
           {
            "marker": {
             "colorbar": {
              "outlinewidth": 0,
              "ticks": ""
             }
            },
            "type": "scatterpolargl"
           }
          ],
          "scatterternary": [
           {
            "marker": {
             "colorbar": {
              "outlinewidth": 0,
              "ticks": ""
             }
            },
            "type": "scatterternary"
           }
          ],
          "surface": [
           {
            "colorbar": {
             "outlinewidth": 0,
             "ticks": ""
            },
            "colorscale": [
             [
              0,
              "#0d0887"
             ],
             [
              0.1111111111111111,
              "#46039f"
             ],
             [
              0.2222222222222222,
              "#7201a8"
             ],
             [
              0.3333333333333333,
              "#9c179e"
             ],
             [
              0.4444444444444444,
              "#bd3786"
             ],
             [
              0.5555555555555556,
              "#d8576b"
             ],
             [
              0.6666666666666666,
              "#ed7953"
             ],
             [
              0.7777777777777778,
              "#fb9f3a"
             ],
             [
              0.8888888888888888,
              "#fdca26"
             ],
             [
              1,
              "#f0f921"
             ]
            ],
            "type": "surface"
           }
          ],
          "table": [
           {
            "cells": {
             "fill": {
              "color": "#EBF0F8"
             },
             "line": {
              "color": "white"
             }
            },
            "header": {
             "fill": {
              "color": "#C8D4E3"
             },
             "line": {
              "color": "white"
             }
            },
            "type": "table"
           }
          ]
         },
         "layout": {
          "annotationdefaults": {
           "arrowcolor": "#2a3f5f",
           "arrowhead": 0,
           "arrowwidth": 1
          },
          "autotypenumbers": "strict",
          "coloraxis": {
           "colorbar": {
            "outlinewidth": 0,
            "ticks": ""
           }
          },
          "colorscale": {
           "diverging": [
            [
             0,
             "#8e0152"
            ],
            [
             0.1,
             "#c51b7d"
            ],
            [
             0.2,
             "#de77ae"
            ],
            [
             0.3,
             "#f1b6da"
            ],
            [
             0.4,
             "#fde0ef"
            ],
            [
             0.5,
             "#f7f7f7"
            ],
            [
             0.6,
             "#e6f5d0"
            ],
            [
             0.7,
             "#b8e186"
            ],
            [
             0.8,
             "#7fbc41"
            ],
            [
             0.9,
             "#4d9221"
            ],
            [
             1,
             "#276419"
            ]
           ],
           "sequential": [
            [
             0,
             "#0d0887"
            ],
            [
             0.1111111111111111,
             "#46039f"
            ],
            [
             0.2222222222222222,
             "#7201a8"
            ],
            [
             0.3333333333333333,
             "#9c179e"
            ],
            [
             0.4444444444444444,
             "#bd3786"
            ],
            [
             0.5555555555555556,
             "#d8576b"
            ],
            [
             0.6666666666666666,
             "#ed7953"
            ],
            [
             0.7777777777777778,
             "#fb9f3a"
            ],
            [
             0.8888888888888888,
             "#fdca26"
            ],
            [
             1,
             "#f0f921"
            ]
           ],
           "sequentialminus": [
            [
             0,
             "#0d0887"
            ],
            [
             0.1111111111111111,
             "#46039f"
            ],
            [
             0.2222222222222222,
             "#7201a8"
            ],
            [
             0.3333333333333333,
             "#9c179e"
            ],
            [
             0.4444444444444444,
             "#bd3786"
            ],
            [
             0.5555555555555556,
             "#d8576b"
            ],
            [
             0.6666666666666666,
             "#ed7953"
            ],
            [
             0.7777777777777778,
             "#fb9f3a"
            ],
            [
             0.8888888888888888,
             "#fdca26"
            ],
            [
             1,
             "#f0f921"
            ]
           ]
          },
          "colorway": [
           "#636efa",
           "#EF553B",
           "#00cc96",
           "#ab63fa",
           "#FFA15A",
           "#19d3f3",
           "#FF6692",
           "#B6E880",
           "#FF97FF",
           "#FECB52"
          ],
          "font": {
           "color": "#2a3f5f"
          },
          "geo": {
           "bgcolor": "white",
           "lakecolor": "white",
           "landcolor": "#E5ECF6",
           "showlakes": true,
           "showland": true,
           "subunitcolor": "white"
          },
          "hoverlabel": {
           "align": "left"
          },
          "hovermode": "closest",
          "mapbox": {
           "style": "light"
          },
          "paper_bgcolor": "white",
          "plot_bgcolor": "#E5ECF6",
          "polar": {
           "angularaxis": {
            "gridcolor": "white",
            "linecolor": "white",
            "ticks": ""
           },
           "bgcolor": "#E5ECF6",
           "radialaxis": {
            "gridcolor": "white",
            "linecolor": "white",
            "ticks": ""
           }
          },
          "scene": {
           "xaxis": {
            "backgroundcolor": "#E5ECF6",
            "gridcolor": "white",
            "gridwidth": 2,
            "linecolor": "white",
            "showbackground": true,
            "ticks": "",
            "zerolinecolor": "white"
           },
           "yaxis": {
            "backgroundcolor": "#E5ECF6",
            "gridcolor": "white",
            "gridwidth": 2,
            "linecolor": "white",
            "showbackground": true,
            "ticks": "",
            "zerolinecolor": "white"
           },
           "zaxis": {
            "backgroundcolor": "#E5ECF6",
            "gridcolor": "white",
            "gridwidth": 2,
            "linecolor": "white",
            "showbackground": true,
            "ticks": "",
            "zerolinecolor": "white"
           }
          },
          "shapedefaults": {
           "line": {
            "color": "#2a3f5f"
           }
          },
          "ternary": {
           "aaxis": {
            "gridcolor": "white",
            "linecolor": "white",
            "ticks": ""
           },
           "baxis": {
            "gridcolor": "white",
            "linecolor": "white",
            "ticks": ""
           },
           "bgcolor": "#E5ECF6",
           "caxis": {
            "gridcolor": "white",
            "linecolor": "white",
            "ticks": ""
           }
          },
          "title": {
           "x": 0.05
          },
          "xaxis": {
           "automargin": true,
           "gridcolor": "white",
           "linecolor": "white",
           "ticks": "",
           "title": {
            "standoff": 15
           },
           "zerolinecolor": "white",
           "zerolinewidth": 2
          },
          "yaxis": {
           "automargin": true,
           "gridcolor": "white",
           "linecolor": "white",
           "ticks": "",
           "title": {
            "standoff": 15
           },
           "zerolinecolor": "white",
           "zerolinewidth": 2
          }
         }
        },
        "title": {
         "text": "PORCENTAJE DE ERROR COMETIDO EN LOS RETORNOS ANUALES ESPERADOS"
        },
        "xaxis": {
         "anchor": "y",
         "domain": [
          0,
          1
         ],
         "title": {
          "text": "Año"
         }
        },
        "yaxis": {
         "anchor": "x",
         "domain": [
          0,
          1
         ],
         "title": {
          "text": "Error %"
         }
        }
       }
      }
     },
     "metadata": {},
     "output_type": "display_data"
    }
   ],
   "source": [
    "error_mu_pct = np.abs(100 * (error_mu/mu_año))\n",
    "\n",
    "fig = px.line(error_mu_pct, x=error_mu_pct.index, y=error_mu_pct.columns, title=\"PORCENTAJE DE ERROR COMETIDO EN LOS RETORNOS ANUALES ESPERADOS\")\n",
    "\n",
    "# Cambiar los títulos de los ejes\n",
    "# Establecer el título del eje x\n",
    "fig.update_layout(xaxis_title=\"Año\", font_family=\"serif\")\n",
    "fig.update_layout(yaxis_title=\"Error %\", font_family=\"serif\")\n",
    "#fig.set_yaxis_title(\"Error (€)\")\n",
    "\n",
    "# Mostrar la gráfica\n",
    "fig.show()"
   ]
  },
  {
   "cell_type": "markdown",
   "metadata": {},
   "source": [
    "Veamos qué ocurre si empleamos datos de dos años en vez de uno:"
   ]
  },
  {
   "cell_type": "code",
   "execution_count": 23,
   "metadata": {},
   "outputs": [
    {
     "data": {
      "text/plain": [
       "[1990, 1991]"
      ]
     },
     "execution_count": 23,
     "metadata": {},
     "output_type": "execute_result"
    }
   ],
   "source": [
    "lista_dos_años = list(zip(years[:-1], years[1:]))\n",
    "# Convertir las tuplas en listas\n",
    "lista_dos_años = [list(tupla) for tupla in lista_dos_años]\n",
    "lista_dos_años[0]\n"
   ]
  },
  {
   "cell_type": "code",
   "execution_count": 28,
   "metadata": {},
   "outputs": [],
   "source": [
    "mu_2 = pd.DataFrame(index=years, columns=assets)\n",
    "error_mu_2 = pd.DataFrame(index=years, columns=assets)\n",
    "num_años = 2\n",
    "\n",
    "for periodo in lista_dos_años:\n",
    "    ret_periodo = ret[ret.index.year.isin(periodo)]\n",
    "    mu_periodo = ret_periodo.mean()\n",
    "    mu_2.loc[periodo[0]] = mu_periodo * (num_años*252)\n",
    "    std = ret_periodo.std()*np.sqrt(num_años*252)\n",
    "    T = ret_periodo.shape[0]\n",
    "    eps_mu = std / np.sqrt(num_años)\n",
    "    error_mu_2.loc[periodo[0]] = eps_mu\n",
    "\n",
    "error_mu_2 = error_mu_2.shift(1).dropna()\n"
   ]
  },
  {
   "cell_type": "code",
   "execution_count": 26,
   "metadata": {},
   "outputs": [
    {
     "data": {
      "text/html": [
       "<div>\n",
       "<style scoped>\n",
       "    .dataframe tbody tr th:only-of-type {\n",
       "        vertical-align: middle;\n",
       "    }\n",
       "\n",
       "    .dataframe tbody tr th {\n",
       "        vertical-align: top;\n",
       "    }\n",
       "\n",
       "    .dataframe thead th {\n",
       "        text-align: right;\n",
       "    }\n",
       "</style>\n",
       "<table border=\"1\" class=\"dataframe\">\n",
       "  <thead>\n",
       "    <tr style=\"text-align: right;\">\n",
       "      <th></th>\n",
       "      <th>AAPL</th>\n",
       "      <th>APA</th>\n",
       "      <th>CMCSA</th>\n",
       "      <th>CPB</th>\n",
       "      <th>JCI</th>\n",
       "      <th>MO</th>\n",
       "      <th>MSFT</th>\n",
       "      <th>TGT</th>\n",
       "    </tr>\n",
       "    <tr>\n",
       "      <th>Date</th>\n",
       "      <th></th>\n",
       "      <th></th>\n",
       "      <th></th>\n",
       "      <th></th>\n",
       "      <th></th>\n",
       "      <th></th>\n",
       "      <th></th>\n",
       "      <th></th>\n",
       "    </tr>\n",
       "  </thead>\n",
       "  <tbody>\n",
       "    <tr>\n",
       "      <th>1990</th>\n",
       "      <td>NaN</td>\n",
       "      <td>NaN</td>\n",
       "      <td>NaN</td>\n",
       "      <td>NaN</td>\n",
       "      <td>NaN</td>\n",
       "      <td>NaN</td>\n",
       "      <td>NaN</td>\n",
       "      <td>NaN</td>\n",
       "    </tr>\n",
       "    <tr>\n",
       "      <th>1991</th>\n",
       "      <td>43823.274608</td>\n",
       "      <td>48943.144246</td>\n",
       "      <td>41725.504879</td>\n",
       "      <td>28156.290553</td>\n",
       "      <td>230081.229023</td>\n",
       "      <td>24835.69451</td>\n",
       "      <td>17984.298072</td>\n",
       "      <td>33790.939482</td>\n",
       "    </tr>\n",
       "    <tr>\n",
       "      <th>1992</th>\n",
       "      <td>47442.418373</td>\n",
       "      <td>34784.429345</td>\n",
       "      <td>19368.959549</td>\n",
       "      <td>181836.67717</td>\n",
       "      <td>31808.747793</td>\n",
       "      <td>50104.429746</td>\n",
       "      <td>95832.989005</td>\n",
       "      <td>72390.397921</td>\n",
       "    </tr>\n",
       "  </tbody>\n",
       "</table>\n",
       "</div>"
      ],
      "text/plain": [
       "              AAPL           APA         CMCSA           CPB            JCI  \\\n",
       "Date                                                                          \n",
       "1990           NaN           NaN           NaN           NaN            NaN   \n",
       "1991  43823.274608  48943.144246  41725.504879  28156.290553  230081.229023   \n",
       "1992  47442.418373  34784.429345  19368.959549  181836.67717   31808.747793   \n",
       "\n",
       "                MO          MSFT           TGT  \n",
       "Date                                            \n",
       "1990           NaN           NaN           NaN  \n",
       "1991   24835.69451  17984.298072  33790.939482  \n",
       "1992  50104.429746  95832.989005  72390.397921  "
      ]
     },
     "execution_count": 26,
     "metadata": {},
     "output_type": "execute_result"
    }
   ],
   "source": [
    "error_mu_2_pct.head(3)"
   ]
  },
  {
   "cell_type": "code",
   "execution_count": 29,
   "metadata": {},
   "outputs": [
    {
     "data": {
      "application/vnd.plotly.v1+json": {
       "config": {
        "plotlyServerURL": "https://plot.ly"
       },
       "data": [
        {
         "hovertemplate": "variable=AAPL<br>Date=%{x}<br>value=%{y}<extra></extra>",
         "legendgroup": "AAPL",
         "line": {
          "color": "#636efa",
          "dash": "solid"
         },
         "marker": {
          "symbol": "circle"
         },
         "mode": "lines",
         "name": "AAPL",
         "orientation": "h",
         "showlegend": true,
         "type": "scatter",
         "x": [
          1990,
          1991,
          1992,
          1993,
          1994,
          1995,
          1996,
          1997,
          1998,
          1999,
          2000,
          2001,
          2002,
          2003,
          2004,
          2005,
          2006,
          2007,
          2008,
          2009,
          2010,
          2011,
          2012,
          2013,
          2014,
          2015,
          2016,
          2017,
          2018,
          2019,
          2020,
          2021,
          2022
         ],
         "xaxis": "x",
         "y": [
          null,
          86.95094168182666,
          94.13178248547462,
          246.604754856972,
          162.02154675504954,
          106.61565330370925,
          82.98954548794931,
          54.72352875315884,
          26.170776436131614,
          191.67474974798623,
          368.3106496521802,
          277.73659526440485,
          343.8721877724203,
          26.119386813488788,
          18.804320875785077,
          35.378787446767795,
          33.2905097117663,
          152.40695718113577,
          168.58901160384067,
          33.63102523495772,
          42.23259061082784,
          44.97053524676703,
          62.60083223444566,
          59.978219218422055,
          68.53780612979382,
          162.39612337841203,
          45.041297319805835,
          51.94684262861394,
          36.220025731329216,
          19.96255379246203,
          36.44037339795955,
          436.38368276516206,
          null
         ],
         "yaxis": "y"
        },
        {
         "hovertemplate": "variable=APA<br>Date=%{x}<br>value=%{y}<extra></extra>",
         "legendgroup": "APA",
         "line": {
          "color": "#EF553B",
          "dash": "solid"
         },
         "marker": {
          "symbol": "circle"
         },
         "mode": "lines",
         "name": "APA",
         "orientation": "h",
         "showlegend": true,
         "type": "scatter",
         "x": [
          1990,
          1991,
          1992,
          1993,
          1994,
          1995,
          1996,
          1997,
          1998,
          1999,
          2000,
          2001,
          2002,
          2003,
          2004,
          2005,
          2006,
          2007,
          2008,
          2009,
          2010,
          2011,
          2012,
          2013,
          2014,
          2015,
          2016,
          2017,
          2018,
          2019,
          2020,
          2021,
          2022
         ],
         "xaxis": "x",
         "y": [
          null,
          97.10941318680327,
          69.01672489163705,
          82.76302344632052,
          102.2588227031588,
          74.63508501177618,
          101.84032900484522,
          168.9784345405644,
          130.24588529342827,
          36.02665195046491,
          80.34800741723362,
          1117.3243017332895,
          60.10461384451979,
          39.949093215359035,
          41.09573841460264,
          78.48604462343778,
          54.83952629244675,
          64.66464473758944,
          168.85014278312212,
          95.89397961597088,
          15914.090483709708,
          113.67872106938508,
          1504.2612715636958,
          169.99069674411265,
          49.591090947400616,
          138.75733379023737,
          294.0709717369946,
          56.70208328550823,
          142.4953840610794,
          114.57689612033445,
          87.33645233120023,
          61.20282288773555,
          null
         ],
         "yaxis": "y"
        },
        {
         "hovertemplate": "variable=CMCSA<br>Date=%{x}<br>value=%{y}<extra></extra>",
         "legendgroup": "CMCSA",
         "line": {
          "color": "#00cc96",
          "dash": "solid"
         },
         "marker": {
          "symbol": "circle"
         },
         "mode": "lines",
         "name": "CMCSA",
         "orientation": "h",
         "showlegend": true,
         "type": "scatter",
         "x": [
          1990,
          1991,
          1992,
          1993,
          1994,
          1995,
          1996,
          1997,
          1998,
          1999,
          2000,
          2001,
          2002,
          2003,
          2004,
          2005,
          2006,
          2007,
          2008,
          2009,
          2010,
          2011,
          2012,
          2013,
          2014,
          2015,
          2016,
          2017,
          2018,
          2019,
          2020,
          2021,
          2022
         ],
         "xaxis": "x",
         "y": [
          null,
          82.7887001571772,
          38.43047529538741,
          108.3088968381457,
          283.0686947101468,
          158.4783284212904,
          43.90935644957947,
          24.69648631755966,
          29.62468058774079,
          72.67216119412525,
          750.9032203335508,
          135.52599495057137,
          312.6600425972307,
          114.16908503507533,
          154.73164891218394,
          73.96612605279408,
          159.05550707501789,
          83.84417121919954,
          215.797874013485,
          119.56808541734989,
          78.80664713737558,
          43.622772280603165,
          27.90193050213684,
          37.61005829306378,
          127.60543679457297,
          79.23238475887266,
          45.304281919058475,
          218.7218149065322,
          112.16685810489585,
          43.03527894017695,
          118.48194213032758,
          111.98113295940036,
          null
         ],
         "yaxis": "y"
        },
        {
         "hovertemplate": "variable=CPB<br>Date=%{x}<br>value=%{y}<extra></extra>",
         "legendgroup": "CPB",
         "line": {
          "color": "#ab63fa",
          "dash": "solid"
         },
         "marker": {
          "symbol": "circle"
         },
         "mode": "lines",
         "name": "CPB",
         "orientation": "h",
         "showlegend": true,
         "type": "scatter",
         "x": [
          1990,
          1991,
          1992,
          1993,
          1994,
          1995,
          1996,
          1997,
          1998,
          1999,
          2000,
          2001,
          2002,
          2003,
          2004,
          2005,
          2006,
          2007,
          2008,
          2009,
          2010,
          2011,
          2012,
          2013,
          2014,
          2015,
          2016,
          2017,
          2018,
          2019,
          2020,
          2021,
          2022
         ],
         "xaxis": "x",
         "y": [
          null,
          55.865655858375256,
          360.78705787707196,
          172.09045990722913,
          48.89168253601364,
          30.23415192530346,
          26.989944333443905,
          53.339253348808235,
          124.83189217994416,
          124.29481105219169,
          598.5754321514514,
          138.7277436117235,
          2493.4962690688135,
          76.00369440809004,
          111.19923333114477,
          47.579428980634795,
          52.77882555123537,
          118.86426526216125,
          347.67691398993634,
          109.75158587055971,
          232.37344170834237,
          153.00409118005908,
          42.74381118149826,
          54.61303208266274,
          64.20197228116943,
          40.05393823390819,
          2254.2246737207934,
          46.190980452790676,
          157.46902534117885,
          52.77608727680591,
          3321.1070642519494,
          99.27121308976987,
          null
         ],
         "yaxis": "y"
        },
        {
         "hovertemplate": "variable=JCI<br>Date=%{x}<br>value=%{y}<extra></extra>",
         "legendgroup": "JCI",
         "line": {
          "color": "#FFA15A",
          "dash": "solid"
         },
         "marker": {
          "symbol": "circle"
         },
         "mode": "lines",
         "name": "JCI",
         "orientation": "h",
         "showlegend": true,
         "type": "scatter",
         "x": [
          1990,
          1991,
          1992,
          1993,
          1994,
          1995,
          1996,
          1997,
          1998,
          1999,
          2000,
          2001,
          2002,
          2003,
          2004,
          2005,
          2006,
          2007,
          2008,
          2009,
          2010,
          2011,
          2012,
          2013,
          2014,
          2015,
          2016,
          2017,
          2018,
          2019,
          2020,
          2021,
          2022
         ],
         "xaxis": "x",
         "y": [
          null,
          456.51037504558883,
          63.11259482800703,
          122.02896268507058,
          59.05748633078957,
          22.824668712072324,
          22.046063637029356,
          23.921893416197587,
          44.60327429549089,
          66.18461145190001,
          82.3941685229846,
          89.82680786275284,
          893.4997755646355,
          100.35810514475858,
          192.36442926852212,
          258.0775635456554,
          35.85207992685611,
          38.34864467724508,
          357.4445067639494,
          57.59257585278106,
          87.74569382640586,
          58.710817807081256,
          40.045222348967826,
          40.91205103202379,
          100.62167558096762,
          177.74553349198635,
          64.47171906245752,
          104.34950866176654,
          134.56655169182733,
          36.903052297825475,
          38.422605850976794,
          77.21608196421256,
          null
         ],
         "yaxis": "y"
        },
        {
         "hovertemplate": "variable=MO<br>Date=%{x}<br>value=%{y}<extra></extra>",
         "legendgroup": "MO",
         "line": {
          "color": "#19d3f3",
          "dash": "solid"
         },
         "marker": {
          "symbol": "circle"
         },
         "mode": "lines",
         "name": "MO",
         "orientation": "h",
         "showlegend": true,
         "type": "scatter",
         "x": [
          1990,
          1991,
          1992,
          1993,
          1994,
          1995,
          1996,
          1997,
          1998,
          1999,
          2000,
          2001,
          2002,
          2003,
          2004,
          2005,
          2006,
          2007,
          2008,
          2009,
          2010,
          2011,
          2012,
          2013,
          2014,
          2015,
          2016,
          2017,
          2018,
          2019,
          2020,
          2021,
          2022
         ],
         "xaxis": "x",
         "y": [
          null,
          49.27717164673525,
          99.41355108282559,
          275.49888978853164,
          47.00188788023273,
          26.69975776136556,
          42.08672715914146,
          61.68753714492335,
          76.2858817712472,
          265.10403433986636,
          47.60524699723304,
          305.5075292184902,
          83.62450540481632,
          56.629352597256116,
          60.32446181357183,
          44.25212558255002,
          42.24075915175447,
          178.13610313174897,
          528.7650101032507,
          45.91451838801852,
          31.099986392962418,
          41.215212341302276,
          40.19514927981581,
          25.455919122343197,
          27.010446558123522,
          39.17886748417635,
          56.956825446931504,
          86.37115264348022,
          112.54328040737806,
          375.5957983819562,
          157.09279352040582,
          94.60273547676974,
          null
         ],
         "yaxis": "y"
        },
        {
         "hovertemplate": "variable=MSFT<br>Date=%{x}<br>value=%{y}<extra></extra>",
         "legendgroup": "MSFT",
         "line": {
          "color": "#FF6692",
          "dash": "solid"
         },
         "marker": {
          "symbol": "circle"
         },
         "mode": "lines",
         "name": "MSFT",
         "orientation": "h",
         "showlegend": true,
         "type": "scatter",
         "x": [
          1990,
          1991,
          1992,
          1993,
          1994,
          1995,
          1996,
          1997,
          1998,
          1999,
          2000,
          2001,
          2002,
          2003,
          2004,
          2005,
          2006,
          2007,
          2008,
          2009,
          2010,
          2011,
          2012,
          2013,
          2014,
          2015,
          2016,
          2017,
          2018,
          2019,
          2020,
          2021,
          2022
         ],
         "xaxis": "x",
         "y": [
          null,
          35.68313109486301,
          190.14481945431316,
          73.29770823095053,
          32.96409328428716,
          28.76285117355829,
          27.51704155880474,
          23.56074980848061,
          25.065373830562823,
          160.54573093011516,
          153.98756162307333,
          139.12287720661578,
          892.8857302234795,
          174.1706792493526,
          231.6773513499191,
          92.97697204779513,
          46.23606374559239,
          85.54120176920932,
          527.702352187212,
          86.78442280869484,
          491.22135466163274,
          384.2893614440344,
          46.34072618322381,
          34.803011274918596,
          43.83856104093264,
          58.60662952076811,
          49.18963976199291,
          32.82315842555872,
          31.99269556390559,
          26.39881710112658,
          38.08897850277817,
          193.50239803658445,
          null
         ],
         "yaxis": "y"
        },
        {
         "hovertemplate": "variable=TGT<br>Date=%{x}<br>value=%{y}<extra></extra>",
         "legendgroup": "TGT",
         "line": {
          "color": "#B6E880",
          "dash": "solid"
         },
         "marker": {
          "symbol": "circle"
         },
         "mode": "lines",
         "name": "TGT",
         "orientation": "h",
         "showlegend": true,
         "type": "scatter",
         "x": [
          1990,
          1991,
          1992,
          1993,
          1994,
          1995,
          1996,
          1997,
          1998,
          1999,
          2000,
          2001,
          2002,
          2003,
          2004,
          2005,
          2006,
          2007,
          2008,
          2009,
          2010,
          2011,
          2012,
          2013,
          2014,
          2015,
          2016,
          2017,
          2018,
          2019,
          2020,
          2021,
          2022
         ],
         "xaxis": "x",
         "y": [
          null,
          67.0455148447967,
          143.63174190580898,
          906.3573386439119,
          107.09271543095585,
          35.83184618965864,
          23.379258353290073,
          28.029716536885054,
          43.371077909681766,
          106.39125698867566,
          126.14207213428297,
          357.97958688837673,
          478.98157975022104,
          60.43987444430495,
          62.79356254181529,
          145.43360243851916,
          8518.666229559705,
          109.37699533536926,
          192.36054268456846,
          73.35397632256,
          218.40278401030955,
          322.12171252757014,
          71.41617471491459,
          46.79204556971354,
          76.7104836242959,
          348.9000289087998,
          566.2654368718862,
          374.3425075607015,
          34.88829088953,
          26.770188236156525,
          49.10652419054441,
          5160.472765216372,
          null
         ],
         "yaxis": "y"
        }
       ],
       "layout": {
        "font": {
         "family": "serif"
        },
        "legend": {
         "title": {
          "text": "variable"
         },
         "tracegroupgap": 0
        },
        "template": {
         "data": {
          "bar": [
           {
            "error_x": {
             "color": "#2a3f5f"
            },
            "error_y": {
             "color": "#2a3f5f"
            },
            "marker": {
             "line": {
              "color": "#E5ECF6",
              "width": 0.5
             },
             "pattern": {
              "fillmode": "overlay",
              "size": 10,
              "solidity": 0.2
             }
            },
            "type": "bar"
           }
          ],
          "barpolar": [
           {
            "marker": {
             "line": {
              "color": "#E5ECF6",
              "width": 0.5
             },
             "pattern": {
              "fillmode": "overlay",
              "size": 10,
              "solidity": 0.2
             }
            },
            "type": "barpolar"
           }
          ],
          "carpet": [
           {
            "aaxis": {
             "endlinecolor": "#2a3f5f",
             "gridcolor": "white",
             "linecolor": "white",
             "minorgridcolor": "white",
             "startlinecolor": "#2a3f5f"
            },
            "baxis": {
             "endlinecolor": "#2a3f5f",
             "gridcolor": "white",
             "linecolor": "white",
             "minorgridcolor": "white",
             "startlinecolor": "#2a3f5f"
            },
            "type": "carpet"
           }
          ],
          "choropleth": [
           {
            "colorbar": {
             "outlinewidth": 0,
             "ticks": ""
            },
            "type": "choropleth"
           }
          ],
          "contour": [
           {
            "colorbar": {
             "outlinewidth": 0,
             "ticks": ""
            },
            "colorscale": [
             [
              0,
              "#0d0887"
             ],
             [
              0.1111111111111111,
              "#46039f"
             ],
             [
              0.2222222222222222,
              "#7201a8"
             ],
             [
              0.3333333333333333,
              "#9c179e"
             ],
             [
              0.4444444444444444,
              "#bd3786"
             ],
             [
              0.5555555555555556,
              "#d8576b"
             ],
             [
              0.6666666666666666,
              "#ed7953"
             ],
             [
              0.7777777777777778,
              "#fb9f3a"
             ],
             [
              0.8888888888888888,
              "#fdca26"
             ],
             [
              1,
              "#f0f921"
             ]
            ],
            "type": "contour"
           }
          ],
          "contourcarpet": [
           {
            "colorbar": {
             "outlinewidth": 0,
             "ticks": ""
            },
            "type": "contourcarpet"
           }
          ],
          "heatmap": [
           {
            "colorbar": {
             "outlinewidth": 0,
             "ticks": ""
            },
            "colorscale": [
             [
              0,
              "#0d0887"
             ],
             [
              0.1111111111111111,
              "#46039f"
             ],
             [
              0.2222222222222222,
              "#7201a8"
             ],
             [
              0.3333333333333333,
              "#9c179e"
             ],
             [
              0.4444444444444444,
              "#bd3786"
             ],
             [
              0.5555555555555556,
              "#d8576b"
             ],
             [
              0.6666666666666666,
              "#ed7953"
             ],
             [
              0.7777777777777778,
              "#fb9f3a"
             ],
             [
              0.8888888888888888,
              "#fdca26"
             ],
             [
              1,
              "#f0f921"
             ]
            ],
            "type": "heatmap"
           }
          ],
          "heatmapgl": [
           {
            "colorbar": {
             "outlinewidth": 0,
             "ticks": ""
            },
            "colorscale": [
             [
              0,
              "#0d0887"
             ],
             [
              0.1111111111111111,
              "#46039f"
             ],
             [
              0.2222222222222222,
              "#7201a8"
             ],
             [
              0.3333333333333333,
              "#9c179e"
             ],
             [
              0.4444444444444444,
              "#bd3786"
             ],
             [
              0.5555555555555556,
              "#d8576b"
             ],
             [
              0.6666666666666666,
              "#ed7953"
             ],
             [
              0.7777777777777778,
              "#fb9f3a"
             ],
             [
              0.8888888888888888,
              "#fdca26"
             ],
             [
              1,
              "#f0f921"
             ]
            ],
            "type": "heatmapgl"
           }
          ],
          "histogram": [
           {
            "marker": {
             "pattern": {
              "fillmode": "overlay",
              "size": 10,
              "solidity": 0.2
             }
            },
            "type": "histogram"
           }
          ],
          "histogram2d": [
           {
            "colorbar": {
             "outlinewidth": 0,
             "ticks": ""
            },
            "colorscale": [
             [
              0,
              "#0d0887"
             ],
             [
              0.1111111111111111,
              "#46039f"
             ],
             [
              0.2222222222222222,
              "#7201a8"
             ],
             [
              0.3333333333333333,
              "#9c179e"
             ],
             [
              0.4444444444444444,
              "#bd3786"
             ],
             [
              0.5555555555555556,
              "#d8576b"
             ],
             [
              0.6666666666666666,
              "#ed7953"
             ],
             [
              0.7777777777777778,
              "#fb9f3a"
             ],
             [
              0.8888888888888888,
              "#fdca26"
             ],
             [
              1,
              "#f0f921"
             ]
            ],
            "type": "histogram2d"
           }
          ],
          "histogram2dcontour": [
           {
            "colorbar": {
             "outlinewidth": 0,
             "ticks": ""
            },
            "colorscale": [
             [
              0,
              "#0d0887"
             ],
             [
              0.1111111111111111,
              "#46039f"
             ],
             [
              0.2222222222222222,
              "#7201a8"
             ],
             [
              0.3333333333333333,
              "#9c179e"
             ],
             [
              0.4444444444444444,
              "#bd3786"
             ],
             [
              0.5555555555555556,
              "#d8576b"
             ],
             [
              0.6666666666666666,
              "#ed7953"
             ],
             [
              0.7777777777777778,
              "#fb9f3a"
             ],
             [
              0.8888888888888888,
              "#fdca26"
             ],
             [
              1,
              "#f0f921"
             ]
            ],
            "type": "histogram2dcontour"
           }
          ],
          "mesh3d": [
           {
            "colorbar": {
             "outlinewidth": 0,
             "ticks": ""
            },
            "type": "mesh3d"
           }
          ],
          "parcoords": [
           {
            "line": {
             "colorbar": {
              "outlinewidth": 0,
              "ticks": ""
             }
            },
            "type": "parcoords"
           }
          ],
          "pie": [
           {
            "automargin": true,
            "type": "pie"
           }
          ],
          "scatter": [
           {
            "fillpattern": {
             "fillmode": "overlay",
             "size": 10,
             "solidity": 0.2
            },
            "type": "scatter"
           }
          ],
          "scatter3d": [
           {
            "line": {
             "colorbar": {
              "outlinewidth": 0,
              "ticks": ""
             }
            },
            "marker": {
             "colorbar": {
              "outlinewidth": 0,
              "ticks": ""
             }
            },
            "type": "scatter3d"
           }
          ],
          "scattercarpet": [
           {
            "marker": {
             "colorbar": {
              "outlinewidth": 0,
              "ticks": ""
             }
            },
            "type": "scattercarpet"
           }
          ],
          "scattergeo": [
           {
            "marker": {
             "colorbar": {
              "outlinewidth": 0,
              "ticks": ""
             }
            },
            "type": "scattergeo"
           }
          ],
          "scattergl": [
           {
            "marker": {
             "colorbar": {
              "outlinewidth": 0,
              "ticks": ""
             }
            },
            "type": "scattergl"
           }
          ],
          "scattermapbox": [
           {
            "marker": {
             "colorbar": {
              "outlinewidth": 0,
              "ticks": ""
             }
            },
            "type": "scattermapbox"
           }
          ],
          "scatterpolar": [
           {
            "marker": {
             "colorbar": {
              "outlinewidth": 0,
              "ticks": ""
             }
            },
            "type": "scatterpolar"
           }
          ],
          "scatterpolargl": [
           {
            "marker": {
             "colorbar": {
              "outlinewidth": 0,
              "ticks": ""
             }
            },
            "type": "scatterpolargl"
           }
          ],
          "scatterternary": [
           {
            "marker": {
             "colorbar": {
              "outlinewidth": 0,
              "ticks": ""
             }
            },
            "type": "scatterternary"
           }
          ],
          "surface": [
           {
            "colorbar": {
             "outlinewidth": 0,
             "ticks": ""
            },
            "colorscale": [
             [
              0,
              "#0d0887"
             ],
             [
              0.1111111111111111,
              "#46039f"
             ],
             [
              0.2222222222222222,
              "#7201a8"
             ],
             [
              0.3333333333333333,
              "#9c179e"
             ],
             [
              0.4444444444444444,
              "#bd3786"
             ],
             [
              0.5555555555555556,
              "#d8576b"
             ],
             [
              0.6666666666666666,
              "#ed7953"
             ],
             [
              0.7777777777777778,
              "#fb9f3a"
             ],
             [
              0.8888888888888888,
              "#fdca26"
             ],
             [
              1,
              "#f0f921"
             ]
            ],
            "type": "surface"
           }
          ],
          "table": [
           {
            "cells": {
             "fill": {
              "color": "#EBF0F8"
             },
             "line": {
              "color": "white"
             }
            },
            "header": {
             "fill": {
              "color": "#C8D4E3"
             },
             "line": {
              "color": "white"
             }
            },
            "type": "table"
           }
          ]
         },
         "layout": {
          "annotationdefaults": {
           "arrowcolor": "#2a3f5f",
           "arrowhead": 0,
           "arrowwidth": 1
          },
          "autotypenumbers": "strict",
          "coloraxis": {
           "colorbar": {
            "outlinewidth": 0,
            "ticks": ""
           }
          },
          "colorscale": {
           "diverging": [
            [
             0,
             "#8e0152"
            ],
            [
             0.1,
             "#c51b7d"
            ],
            [
             0.2,
             "#de77ae"
            ],
            [
             0.3,
             "#f1b6da"
            ],
            [
             0.4,
             "#fde0ef"
            ],
            [
             0.5,
             "#f7f7f7"
            ],
            [
             0.6,
             "#e6f5d0"
            ],
            [
             0.7,
             "#b8e186"
            ],
            [
             0.8,
             "#7fbc41"
            ],
            [
             0.9,
             "#4d9221"
            ],
            [
             1,
             "#276419"
            ]
           ],
           "sequential": [
            [
             0,
             "#0d0887"
            ],
            [
             0.1111111111111111,
             "#46039f"
            ],
            [
             0.2222222222222222,
             "#7201a8"
            ],
            [
             0.3333333333333333,
             "#9c179e"
            ],
            [
             0.4444444444444444,
             "#bd3786"
            ],
            [
             0.5555555555555556,
             "#d8576b"
            ],
            [
             0.6666666666666666,
             "#ed7953"
            ],
            [
             0.7777777777777778,
             "#fb9f3a"
            ],
            [
             0.8888888888888888,
             "#fdca26"
            ],
            [
             1,
             "#f0f921"
            ]
           ],
           "sequentialminus": [
            [
             0,
             "#0d0887"
            ],
            [
             0.1111111111111111,
             "#46039f"
            ],
            [
             0.2222222222222222,
             "#7201a8"
            ],
            [
             0.3333333333333333,
             "#9c179e"
            ],
            [
             0.4444444444444444,
             "#bd3786"
            ],
            [
             0.5555555555555556,
             "#d8576b"
            ],
            [
             0.6666666666666666,
             "#ed7953"
            ],
            [
             0.7777777777777778,
             "#fb9f3a"
            ],
            [
             0.8888888888888888,
             "#fdca26"
            ],
            [
             1,
             "#f0f921"
            ]
           ]
          },
          "colorway": [
           "#636efa",
           "#EF553B",
           "#00cc96",
           "#ab63fa",
           "#FFA15A",
           "#19d3f3",
           "#FF6692",
           "#B6E880",
           "#FF97FF",
           "#FECB52"
          ],
          "font": {
           "color": "#2a3f5f"
          },
          "geo": {
           "bgcolor": "white",
           "lakecolor": "white",
           "landcolor": "#E5ECF6",
           "showlakes": true,
           "showland": true,
           "subunitcolor": "white"
          },
          "hoverlabel": {
           "align": "left"
          },
          "hovermode": "closest",
          "mapbox": {
           "style": "light"
          },
          "paper_bgcolor": "white",
          "plot_bgcolor": "#E5ECF6",
          "polar": {
           "angularaxis": {
            "gridcolor": "white",
            "linecolor": "white",
            "ticks": ""
           },
           "bgcolor": "#E5ECF6",
           "radialaxis": {
            "gridcolor": "white",
            "linecolor": "white",
            "ticks": ""
           }
          },
          "scene": {
           "xaxis": {
            "backgroundcolor": "#E5ECF6",
            "gridcolor": "white",
            "gridwidth": 2,
            "linecolor": "white",
            "showbackground": true,
            "ticks": "",
            "zerolinecolor": "white"
           },
           "yaxis": {
            "backgroundcolor": "#E5ECF6",
            "gridcolor": "white",
            "gridwidth": 2,
            "linecolor": "white",
            "showbackground": true,
            "ticks": "",
            "zerolinecolor": "white"
           },
           "zaxis": {
            "backgroundcolor": "#E5ECF6",
            "gridcolor": "white",
            "gridwidth": 2,
            "linecolor": "white",
            "showbackground": true,
            "ticks": "",
            "zerolinecolor": "white"
           }
          },
          "shapedefaults": {
           "line": {
            "color": "#2a3f5f"
           }
          },
          "ternary": {
           "aaxis": {
            "gridcolor": "white",
            "linecolor": "white",
            "ticks": ""
           },
           "baxis": {
            "gridcolor": "white",
            "linecolor": "white",
            "ticks": ""
           },
           "bgcolor": "#E5ECF6",
           "caxis": {
            "gridcolor": "white",
            "linecolor": "white",
            "ticks": ""
           }
          },
          "title": {
           "x": 0.05
          },
          "xaxis": {
           "automargin": true,
           "gridcolor": "white",
           "linecolor": "white",
           "ticks": "",
           "title": {
            "standoff": 15
           },
           "zerolinecolor": "white",
           "zerolinewidth": 2
          },
          "yaxis": {
           "automargin": true,
           "gridcolor": "white",
           "linecolor": "white",
           "ticks": "",
           "title": {
            "standoff": 15
           },
           "zerolinecolor": "white",
           "zerolinewidth": 2
          }
         }
        },
        "title": {
         "text": "PORCENTAJE DE ERROR COMETIDO EN LOS RETORNOS ANUALES ESPERADOS"
        },
        "xaxis": {
         "anchor": "y",
         "domain": [
          0,
          1
         ],
         "title": {
          "text": "Año"
         }
        },
        "yaxis": {
         "anchor": "x",
         "domain": [
          0,
          1
         ],
         "title": {
          "text": "Error %"
         }
        }
       }
      }
     },
     "metadata": {},
     "output_type": "display_data"
    }
   ],
   "source": [
    "error_mu_2_pct = np.abs(100 * error_mu_2/mu_2)\n",
    "\n",
    "fig = px.line(error_mu_2_pct, x=error_mu_2_pct.index, y=error_mu_2_pct.columns, title=\"PORCENTAJE DE ERROR COMETIDO EN LOS RETORNOS ANUALES ESPERADOS\")\n",
    "\n",
    "# Cambiar los títulos de los ejes\n",
    "# Establecer el título del eje x\n",
    "fig.update_layout(xaxis_title=\"Año\", font_family=\"serif\")\n",
    "fig.update_layout(yaxis_title=\"Error %\", font_family=\"serif\")\n",
    "#fig.set_yaxis_title(\"Error (€)\")\n",
    "\n",
    "# Mostrar la gráfica\n",
    "fig.show()"
   ]
  },
  {
   "cell_type": "code",
   "execution_count": 57,
   "metadata": {},
   "outputs": [
    {
     "data": {
      "text/plain": [
       "AAPL      0.637063\n",
       "APA       1.289441\n",
       "CMCSA     1.102421\n",
       "CPB      -0.996134\n",
       "CSCO      0.499125\n",
       "JCI      14.430280\n",
       "MO       -0.574255\n",
       "MSFT      0.726015\n",
       "TGT       1.183885\n",
       "dtype: float64"
      ]
     },
     "execution_count": 57,
     "metadata": {},
     "output_type": "execute_result"
    }
   ],
   "source": [
    "año = '1999'\n",
    "\n",
    "ret_year = ret.loc[año]\n",
    "mu = ret_year.mean()\n",
    "std = ret_year.std()\n",
    "T = ret_year.shape[0]\n",
    "eps_mu = std / np.sqrt(T)\n",
    "eps_mu/mu"
   ]
  },
  {
   "cell_type": "code",
   "execution_count": 13,
   "metadata": {},
   "outputs": [],
   "source": [
    "mean_20 = ret.rolling(20).mean().dropna()\n",
    "cov_20 = ret.rolling(20).cov().dropna()\n",
    "std_20 = ret.rolling(20).std().dropna()"
   ]
  },
  {
   "cell_type": "code",
   "execution_count": 14,
   "metadata": {},
   "outputs": [],
   "source": [
    "mean_126 = ret.rolling(126).mean().dropna()\n",
    "cov_126 = ret.rolling(126).cov().dropna()\n",
    "std_126 = ret.rolling(126).std().dropna()"
   ]
  },
  {
   "cell_type": "code",
   "execution_count": 15,
   "metadata": {},
   "outputs": [],
   "source": [
    "mean_252 = ret.rolling(252).mean().dropna()\n",
    "cov_252 = ret.rolling(252).cov().dropna()\n",
    "std_252 = ret.rolling(252).std().dropna()"
   ]
  },
  {
   "cell_type": "code",
   "execution_count": 23,
   "metadata": {},
   "outputs": [
    {
     "data": {
      "image/png": "[encoded data removed]",
      "text/plain": [
       "<Figure size 1200x600 with 1 Axes>"
      ]
     },
     "metadata": {},
     "output_type": "display_data"
    }
   ],
   "source": [
    "mean_20.mean(axis=0).plot(figsize=(12, 6), label='20 días')\n",
    "mean_126.mean(axis=0).plot(label='126 días')\n",
    "mean_252.mean(axis=0).plot(label='252 días')\n",
    "plt.show()"
   ]
  },
  {
   "cell_type": "code",
   "execution_count": 31,
   "metadata": {},
   "outputs": [
    {
     "data": {
      "text/plain": [
       "-0.014234930889379351"
      ]
     },
     "execution_count": 31,
     "metadata": {},
     "output_type": "execute_result"
    }
   ],
   "source": [
    "np.percentile(mean_20.loc[:, 'CPB'], 0.05)"
   ]
  },
  {
   "cell_type": "code",
   "execution_count": 37,
   "metadata": {},
   "outputs": [
    {
     "data": {
      "image/png": "[encoded data removed]",
      "text/plain": [
       "<Figure size 640x480 with 1 Axes>"
      ]
     },
     "metadata": {},
     "output_type": "display_data"
    }
   ],
   "source": [
    "plt.hist(mean_20.loc[:, 'CPB'], bins=100, density=True, label='20 días')\n",
    "# Línea vertical\n",
    "plt.axvline(x=np.percentile(mean_20.loc[:, 'CPB'], 0.05), color='red', linewidth=2)\n",
    "plt.axvline(x=np.percentile(mean_20.loc[:, 'CPB'], 99.95), color='red', linewidth=2)\n",
    "plt.show()"
   ]
  },
  {
   "cell_type": "code",
   "execution_count": 38,
   "metadata": {},
   "outputs": [
    {
     "data": {
      "image/png": "[encoded data removed]",
      "text/plain": [
       "<Figure size 640x480 with 1 Axes>"
      ]
     },
     "metadata": {},
     "output_type": "display_data"
    }
   ],
   "source": [
    "plt.hist(mean_20.loc[:, 'JCI'], bins=100, density=True, label='20 días')\n",
    "# Línea vertical\n",
    "plt.axvline(x=np.percentile(mean_20.loc[:, 'JCI'], 0.05), color='red', linewidth=2)\n",
    "plt.axvline(x=np.percentile(mean_20.loc[:, 'JCI'], 99.95), color='red', linewidth=2)\n",
    "plt.show()"
   ]
  },
  {
   "cell_type": "code",
   "execution_count": 39,
   "metadata": {},
   "outputs": [
    {
     "data": {
      "image/png": "[encoded data removed]",
      "text/plain": [
       "<Figure size 640x480 with 1 Axes>"
      ]
     },
     "metadata": {},
     "output_type": "display_data"
    }
   ],
   "source": [
    "plt.hist(mean_252.loc[:, 'JCI'], bins=100, density=True, label='20 días')\n",
    "# Línea vertical\n",
    "plt.axvline(x=np.percentile(mean_252.loc[:, 'JCI'], 0.05), color='red', linewidth=2)\n",
    "plt.axvline(x=np.percentile(mean_252.loc[:, 'JCI'], 99.95), color='red', linewidth=2)\n",
    "plt.show()"
   ]
  },
  {
   "cell_type": "code",
   "execution_count": 26,
   "metadata": {},
   "outputs": [
    {
     "data": {
      "text/plain": [
       "AAPL    -0.446989\n",
       "APA      4.370127\n",
       "CMCSA   -2.847391\n",
       "CPB      7.470602\n",
       "CSCO     0.826049\n",
       "JCI      7.980844\n",
       "MO       3.308762\n",
       "MSFT     1.797540\n",
       "TGT     -0.529910\n",
       "dtype: float64"
      ]
     },
     "execution_count": 26,
     "metadata": {},
     "output_type": "execute_result"
    }
   ],
   "source": [
    "100 * (mean_20.mean(axis=0) - mean_126.mean(axis=0))/mean_20.mean(axis=0)\n"
   ]
  }
 ],
 "metadata": {
  "kernelspec": {
   "display_name": "venv",
   "language": "python",
   "name": "python3"
  },
  "language_info": {
   "codemirror_mode": {
    "name": "ipython",
    "version": 3
   },
   "file_extension": ".py",
   "mimetype": "text/x-python",
   "name": "python",
   "nbconvert_exporter": "python",
   "pygments_lexer": "ipython3",
   "version": "3.11.5"
  },
  "orig_nbformat": 4
 },
 "nbformat": 4,
 "nbformat_minor": 2
}
